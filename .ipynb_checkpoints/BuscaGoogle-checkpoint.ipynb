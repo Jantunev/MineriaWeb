{
 "cells": [
  {
   "cell_type": "code",
   "execution_count": 1,
   "metadata": {},
   "outputs": [],
   "source": [
    "#Importando librerias\n",
    "import pandas as pd\n",
    "import numpy as np\n",
    "from urllib.request import FancyURLopener\n",
    "from bs4 import BeautifulSoup\n",
    "import requests\n",
    "import urllib\n",
    "\n",
    "from urllib.request import urlopen\n",
    "from urllib.request import urlopen, Request\n",
    "from bs4 import BeautifulSoup\n",
    "import time\n",
    "from random import choice\n",
    "from urllib.error import HTTPError \n",
    "import urllib.parse"
   ]
  },
  {
   "cell_type": "markdown",
   "metadata": {},
   "source": [
    "Extracción y Preparación de la Data"
   ]
  },
  {
   "cell_type": "code",
   "execution_count": 10,
   "metadata": {},
   "outputs": [],
   "source": [
    "#Extrayendo la data para análisis\n",
    "#NOTA: PARA JALAR LA DATA DE OTRA PC, CAMBIAR LA RUTA DE s A LA NUEVA RUTA\n",
    "s=r'C:\\Users\\Jorge Pablo\\Documents\\PUCP\\II_MineriaWeb\\Trabajo\\FakeNewCorpusSpanish_V1\\train.xlsx'\n",
    "archivo=pd.ExcelFile(s)\n",
    "hoja=archivo.sheet_names#Extrayendo la data para análisis\n",
    "#NOTA: PARA JALAR LA DATA DE OTRA PC, CAMBIAR LA RUTA DE s A LA NUEVA RUTA\n",
    "s=r'C:\\Users\\Jorge Pablo\\Documents\\PUCP\\II_MineriaWeb\\Trabajo\\FakeNewCorpusSpanish_V1\\train.xlsx'\n",
    "archivo=pd.ExcelFile(s)\n",
    "hoja=archivo.sheet_names\n",
    "#Extrayendo la data test para análisis y conversion\n",
    "#NOTA: PARA JALAR LA DATA DE OTRA PC, CAMBIAR LA RUTA DE s A LA NUEVA RUTA\n",
    "s2=r'C:\\Users\\Jorge Pablo\\Documents\\PUCP\\II_MineriaWeb\\Trabajo\\FakeNewCorpusSpanish_V1\\test.xlsx'\n",
    "archivo2=pd.ExcelFile(s2)\n",
    "hoja2=archivo2.sheet_names"
   ]
  },
  {
   "cell_type": "code",
   "execution_count": 11,
   "metadata": {},
   "outputs": [
    {
     "data": {
      "text/html": [
       "<div>\n",
       "<style scoped>\n",
       "    .dataframe tbody tr th:only-of-type {\n",
       "        vertical-align: middle;\n",
       "    }\n",
       "\n",
       "    .dataframe tbody tr th {\n",
       "        vertical-align: top;\n",
       "    }\n",
       "\n",
       "    .dataframe thead th {\n",
       "        text-align: right;\n",
       "    }\n",
       "</style>\n",
       "<table border=\"1\" class=\"dataframe\">\n",
       "  <thead>\n",
       "    <tr style=\"text-align: right;\">\n",
       "      <th></th>\n",
       "      <th>Category</th>\n",
       "      <th>Topic</th>\n",
       "      <th>Source</th>\n",
       "      <th>Headline</th>\n",
       "      <th>Text</th>\n",
       "      <th>Link</th>\n",
       "    </tr>\n",
       "  </thead>\n",
       "  <tbody>\n",
       "    <tr>\n",
       "      <th>0</th>\n",
       "      <td>Fake</td>\n",
       "      <td>Education</td>\n",
       "      <td>El Ruinaversal</td>\n",
       "      <td>RAE INCLUIRÁ LA PALABRA \"LADY\" EN EL DICCIONAR...</td>\n",
       "      <td>RAE INCLUIRÁ LA PALABRA \"LADY\" EN EL DICCIONAR...</td>\n",
       "      <td>http://www.elruinaversal.com/2017/06/10/rae-in...</td>\n",
       "    </tr>\n",
       "    <tr>\n",
       "      <th>1</th>\n",
       "      <td>Fake</td>\n",
       "      <td>Education</td>\n",
       "      <td>Hay noticia</td>\n",
       "      <td>La palabra \"haiga\", aceptada por la RAE</td>\n",
       "      <td>La palabra \"haiga\", aceptada por la RAE La Rea...</td>\n",
       "      <td>https://haynoticia.es/la-palabra-haiga-aceptad...</td>\n",
       "    </tr>\n",
       "    <tr>\n",
       "      <th>2</th>\n",
       "      <td>Fake</td>\n",
       "      <td>Education</td>\n",
       "      <td>El Ruinaversal</td>\n",
       "      <td>YORDI ROSADO ESCRIBIRÁ Y DISEÑARÁ LOS NUEVOS L...</td>\n",
       "      <td>YORDI ROSADO ESCRIBIRÁ Y DISEÑARÁ LOS NUEVOS L...</td>\n",
       "      <td>http://www.elruinaversal.com/2018/05/06/yordi-...</td>\n",
       "    </tr>\n",
       "    <tr>\n",
       "      <th>3</th>\n",
       "      <td>True</td>\n",
       "      <td>Education</td>\n",
       "      <td>EL UNIVERSAL</td>\n",
       "      <td>UNAM capacitará a maestros para aprobar prueba...</td>\n",
       "      <td>UNAM capacitará a maestros para aprobar prueba...</td>\n",
       "      <td>http://www.eluniversal.com.mx/articulo/nacion/...</td>\n",
       "    </tr>\n",
       "    <tr>\n",
       "      <th>4</th>\n",
       "      <td>Fake</td>\n",
       "      <td>Education</td>\n",
       "      <td>Lamula</td>\n",
       "      <td>pretenden aprobar libros escolares con conteni...</td>\n",
       "      <td>Alerta: pretenden aprobar libros escolares con...</td>\n",
       "      <td>https://redaccion.lamula.pe/2018/06/19/memoria...</td>\n",
       "    </tr>\n",
       "  </tbody>\n",
       "</table>\n",
       "</div>"
      ],
      "text/plain": [
       "  Category      Topic          Source  \\\n",
       "0     Fake  Education  El Ruinaversal   \n",
       "1     Fake  Education     Hay noticia   \n",
       "2     Fake  Education  El Ruinaversal   \n",
       "3     True  Education    EL UNIVERSAL   \n",
       "4     Fake  Education          Lamula   \n",
       "\n",
       "                                            Headline  \\\n",
       "0  RAE INCLUIRÁ LA PALABRA \"LADY\" EN EL DICCIONAR...   \n",
       "1            La palabra \"haiga\", aceptada por la RAE   \n",
       "2  YORDI ROSADO ESCRIBIRÁ Y DISEÑARÁ LOS NUEVOS L...   \n",
       "3  UNAM capacitará a maestros para aprobar prueba...   \n",
       "4  pretenden aprobar libros escolares con conteni...   \n",
       "\n",
       "                                                Text  \\\n",
       "0  RAE INCLUIRÁ LA PALABRA \"LADY\" EN EL DICCIONAR...   \n",
       "1  La palabra \"haiga\", aceptada por la RAE La Rea...   \n",
       "2  YORDI ROSADO ESCRIBIRÁ Y DISEÑARÁ LOS NUEVOS L...   \n",
       "3  UNAM capacitará a maestros para aprobar prueba...   \n",
       "4  Alerta: pretenden aprobar libros escolares con...   \n",
       "\n",
       "                                                Link  \n",
       "0  http://www.elruinaversal.com/2017/06/10/rae-in...  \n",
       "1  https://haynoticia.es/la-palabra-haiga-aceptad...  \n",
       "2  http://www.elruinaversal.com/2018/05/06/yordi-...  \n",
       "3  http://www.eluniversal.com.mx/articulo/nacion/...  \n",
       "4  https://redaccion.lamula.pe/2018/06/19/memoria...  "
      ]
     },
     "execution_count": 11,
     "metadata": {},
     "output_type": "execute_result"
    }
   ],
   "source": [
    "df=archivo.parse('Hoja de datos')\n",
    "df.head()"
   ]
  },
  {
   "cell_type": "code",
   "execution_count": 12,
   "metadata": {},
   "outputs": [
    {
     "data": {
      "text/html": [
       "<div>\n",
       "<style scoped>\n",
       "    .dataframe tbody tr th:only-of-type {\n",
       "        vertical-align: middle;\n",
       "    }\n",
       "\n",
       "    .dataframe tbody tr th {\n",
       "        vertical-align: top;\n",
       "    }\n",
       "\n",
       "    .dataframe thead th {\n",
       "        text-align: right;\n",
       "    }\n",
       "</style>\n",
       "<table border=\"1\" class=\"dataframe\">\n",
       "  <thead>\n",
       "    <tr style=\"text-align: right;\">\n",
       "      <th></th>\n",
       "      <th>Category</th>\n",
       "      <th>Topic</th>\n",
       "      <th>Source</th>\n",
       "      <th>Headline</th>\n",
       "      <th>Text</th>\n",
       "      <th>Link</th>\n",
       "    </tr>\n",
       "  </thead>\n",
       "  <tbody>\n",
       "    <tr>\n",
       "      <th>0</th>\n",
       "      <td>Fake</td>\n",
       "      <td>Education</td>\n",
       "      <td>El Ruinaversal</td>\n",
       "      <td>MAESTRA DE *NUMBER* AÑOS QUE TUVO RELACIONES C...</td>\n",
       "      <td>MAESTRA DE *NUMBER* AÑOS QUE TUVO RELACIONES C...</td>\n",
       "      <td>http://www.elruinaversal.com/2017/06/04/maestr...</td>\n",
       "    </tr>\n",
       "    <tr>\n",
       "      <th>1</th>\n",
       "      <td>True</td>\n",
       "      <td>Education</td>\n",
       "      <td>Heraldo</td>\n",
       "      <td>Oxford lanza sus propios exámenes de certifica...</td>\n",
       "      <td>Oxford lanza sus propios exámenes de certifica...</td>\n",
       "      <td>https://www.heraldo.es/noticias/sociedad/2017/...</td>\n",
       "    </tr>\n",
       "    <tr>\n",
       "      <th>2</th>\n",
       "      <td>True</td>\n",
       "      <td>Education</td>\n",
       "      <td>abc</td>\n",
       "      <td>La RAE estudia incluir «machirulo» en el Dicci...</td>\n",
       "      <td>La RAE estudia incluir «machirulo» en el Dicci...</td>\n",
       "      <td>https://www.abc.es/cultura/abci-estudia-inclui...</td>\n",
       "    </tr>\n",
       "    <tr>\n",
       "      <th>3</th>\n",
       "      <td>True</td>\n",
       "      <td>Education</td>\n",
       "      <td>El país</td>\n",
       "      <td>Malala Yousafzai anuncia que estudiará en Oxford</td>\n",
       "      <td>Malala Yousafzai anuncia que estudiará en Oxfo...</td>\n",
       "      <td>https://elpais.com/internacional/2017/08/17/ac...</td>\n",
       "    </tr>\n",
       "    <tr>\n",
       "      <th>4</th>\n",
       "      <td>Fake</td>\n",
       "      <td>Education</td>\n",
       "      <td>El Ruinaversal</td>\n",
       "      <td>Nombran a Ricardo Arjona nuevo miembro de la R...</td>\n",
       "      <td>Nombran a Ricardo Arjona nuevo miembro de la R...</td>\n",
       "      <td>http://www.elruinaversal.com/2017/06/25/nombra...</td>\n",
       "    </tr>\n",
       "  </tbody>\n",
       "</table>\n",
       "</div>"
      ],
      "text/plain": [
       "  Category      Topic          Source  \\\n",
       "0     Fake  Education  El Ruinaversal   \n",
       "1     True  Education         Heraldo   \n",
       "2     True  Education             abc   \n",
       "3     True  Education         El país   \n",
       "4     Fake  Education  El Ruinaversal   \n",
       "\n",
       "                                            Headline  \\\n",
       "0  MAESTRA DE *NUMBER* AÑOS QUE TUVO RELACIONES C...   \n",
       "1  Oxford lanza sus propios exámenes de certifica...   \n",
       "2  La RAE estudia incluir «machirulo» en el Dicci...   \n",
       "3   Malala Yousafzai anuncia que estudiará en Oxford   \n",
       "4  Nombran a Ricardo Arjona nuevo miembro de la R...   \n",
       "\n",
       "                                                Text  \\\n",
       "0  MAESTRA DE *NUMBER* AÑOS QUE TUVO RELACIONES C...   \n",
       "1  Oxford lanza sus propios exámenes de certifica...   \n",
       "2  La RAE estudia incluir «machirulo» en el Dicci...   \n",
       "3  Malala Yousafzai anuncia que estudiará en Oxfo...   \n",
       "4  Nombran a Ricardo Arjona nuevo miembro de la R...   \n",
       "\n",
       "                                                Link  \n",
       "0  http://www.elruinaversal.com/2017/06/04/maestr...  \n",
       "1  https://www.heraldo.es/noticias/sociedad/2017/...  \n",
       "2  https://www.abc.es/cultura/abci-estudia-inclui...  \n",
       "3  https://elpais.com/internacional/2017/08/17/ac...  \n",
       "4  http://www.elruinaversal.com/2017/06/25/nombra...  "
      ]
     },
     "execution_count": 12,
     "metadata": {},
     "output_type": "execute_result"
    }
   ],
   "source": [
    "df2=archivo2.parse('Hoja de datos')\n",
    "df2.head()"
   ]
  },
  {
   "cell_type": "code",
   "execution_count": 13,
   "metadata": {},
   "outputs": [
    {
     "data": {
      "text/plain": [
       "(676, 6)"
      ]
     },
     "execution_count": 13,
     "metadata": {},
     "output_type": "execute_result"
    }
   ],
   "source": [
    "df.shape"
   ]
  },
  {
   "cell_type": "code",
   "execution_count": 14,
   "metadata": {},
   "outputs": [],
   "source": [
    "#obtener solo las paginas http de train\n",
    "df_link=df.drop(['Category','Topic','Source','Headline','Text'] ,axis=1)\n",
    "#Convirtiendo la data http de tipo objeto a string para uso en URLopener\n",
    "df_link=df_link['Link'].astype(str)"
   ]
  },
  {
   "cell_type": "code",
   "execution_count": 15,
   "metadata": {},
   "outputs": [
    {
     "data": {
      "text/plain": [
       "'http://www.eluniversal.com.mx/articulo/nacion/sociedad/2017/02/8/unam-capacitara-maestros-para-aprobar-prueba-pisa'"
      ]
     },
     "execution_count": 15,
     "metadata": {},
     "output_type": "execute_result"
    }
   ],
   "source": [
    "#Prueba del link de train\n",
    "textp=df_link.loc[3]\n",
    "textp"
   ]
  },
  {
   "cell_type": "code",
   "execution_count": 16,
   "metadata": {},
   "outputs": [],
   "source": [
    "#obtener solo las paginas http de test\n",
    "df_link2=df2.drop(['Category','Topic','Source','Headline','Text'] ,axis=1)\n",
    "#Convirtiendo la data http de tipo objeto a string para uso en URLopener\n",
    "df_link2=df_link2['Link'].astype(str)"
   ]
  },
  {
   "cell_type": "code",
   "execution_count": 17,
   "metadata": {},
   "outputs": [
    {
     "data": {
      "text/plain": [
       "'https://elpais.com/internacional/2017/08/17/actualidad/1502965593_437389.html'"
      ]
     },
     "execution_count": 17,
     "metadata": {},
     "output_type": "execute_result"
    }
   ],
   "source": [
    "#Prueba del link de test\n",
    "textp2=df_link2.loc[3]\n",
    "textp2"
   ]
  },
  {
   "cell_type": "code",
   "execution_count": 18,
   "metadata": {},
   "outputs": [],
   "source": [
    "#Colocando distintos agentes de búsqueda\n",
    "user_agents = [\n",
    "    'Mozilla/5.0 (Windows; U; Windows NT 5.1; it; rv:1.8.1.11) Gecko/20071127 Firefox/2.0.0.11',\n",
    "    'Opera/9.25 (Windows NT 5.1; U; en)',\n",
    "    'Mozilla/4.0 (compatible; MSIE 6.0; Windows NT 5.1; SV1; .NET CLR 1.1.4322; .NET CLR 2.0.50727)',\n",
    "    #'Mozilla/5.0 (compatible; Konqueror/3.5; Linux) KHTML/3.5.5 (like Gecko) (Kubuntu)',\n",
    "    #'Mozilla/5.0 (X11; U; Linux i686; en-US; rv:1.8.0.12) Gecko/20070731 Ubuntu/dapper-security Firefox/1.5.0.12',\n",
    "    #'Lynx/2.8.5rel.1 libwww-FM/2.14 SSL-MM/1.4.1 GNUTLS/1.2.9'\n",
    "]"
   ]
  },
  {
   "cell_type": "markdown",
   "metadata": {},
   "source": [
    "Funcion de extraccion total no se usa FancyURLopener porque bloqueaba la descarg\n",
    "Se cambia de urlpone y urllib.request\n",
    "Se agrega excepción para errores de paginas http inexistentes, se coloca \"NA\" en esos campos"
   ]
  },
  {
   "cell_type": "code",
   "execution_count": 23,
   "metadata": {},
   "outputs": [],
   "source": [
    "def agrupa_textos(df_link,rango):\n",
    "    grupo=[]\n",
    "    #class MyOpener(FancyURLopener,object):\n",
    "        #version = choice(user_agents)\n",
    "    #myopener=MyOpener()\n",
    "    agent=choice(user_agents)\n",
    "    \n",
    "    head = {'User-Agent': agent}\n",
    "\n",
    "    \n",
    "    for i in range(0,rango):\n",
    "                  \n",
    "        texto= df_link_part1.loc[i]\n",
    "        try:\n",
    "            html = urlopen(texto)\n",
    "        except:\n",
    "            ptag=\"NA\"\n",
    "        else:\n",
    "            #texto_html=myopener.open(urllib.parse.unquote(texto)).read()\n",
    "            req  =urllib.request.Request(texto, data=None,headers=head)\n",
    "            response = urllib.request.urlopen(req)\n",
    "            texto_html=response.read()\n",
    "            soup=BeautifulSoup(texto_html,\"lxml\")\n",
    "            ptag=soup.findAll('p')\n",
    "        grupo.append(ptag)\n",
    "           \n",
    "              \n",
    "    return(grupo)\n",
    "    \n",
    "    "
   ]
  },
  {
   "cell_type": "code",
   "execution_count": 9,
   "metadata": {},
   "outputs": [],
   "source": [
    "#Inicalizar el grupo, obtener la cantidad de descarga\n",
    "grupo2=[]\n",
    "total=len(df_link)-1"
   ]
  },
  {
   "cell_type": "markdown",
   "metadata": {},
   "source": [
    "Llamada a descarga de archivo de entrenamiento, se realizan descargas por lotes de 10 con intervalos de 1 minuto"
   ]
  },
  {
   "cell_type": "code",
   "execution_count": 15,
   "metadata": {},
   "outputs": [
    {
     "name": "stdout",
     "output_type": "stream",
     "text": [
      "0    10\n",
      "1    20\n",
      "2    30\n",
      "3    40\n",
      "4    50\n",
      "5    60\n",
      "6    70\n",
      "7    80\n",
      "8    90\n",
      "9    100\n",
      "10    110\n",
      "11    120\n",
      "12    130\n",
      "13    140\n",
      "14    150\n",
      "15    160\n",
      "16    170\n",
      "17    180\n",
      "18    190\n",
      "19    200\n",
      "20    210\n",
      "21    220\n",
      "22    230\n",
      "23    240\n",
      "24    250\n",
      "25    260\n",
      "26    270\n",
      "27    280\n",
      "28    290\n",
      "29    300\n",
      "30    310\n",
      "31    320\n",
      "32    330\n",
      "33    340\n",
      "34    350\n",
      "35    360\n",
      "36    370\n",
      "37    380\n",
      "38    390\n",
      "39    400\n",
      "40    410\n",
      "41    420\n",
      "42    430\n",
      "43    440\n",
      "44    450\n",
      "45    460\n",
      "46    470\n",
      "47    480\n",
      "48    490\n",
      "49    500\n",
      "50    510\n",
      "51    520\n",
      "52    530\n",
      "53    540\n",
      "54    550\n",
      "55    560\n",
      "56    570\n",
      "57    580\n",
      "58    590\n",
      "59    600\n",
      "60    610\n",
      "61    620\n",
      "62    630\n",
      "63    640\n",
      "64    650\n",
      "65    660\n",
      "66    670\n"
     ]
    }
   ],
   "source": [
    "parcial=int(total/10)\n",
    "inicio=0\n",
    "for i in range(0,parcial):\n",
    "    cantidad=inicio+10\n",
    "    df_link_part1 = df_link.iloc[inicio:cantidad]\n",
    "    df_link_part1 = df_link_part1.reset_index(drop=True)\n",
    "    \n",
    "    rango=cantidad-inicio\n",
    "    \n",
    "    grupo=agrupa_textos(df_link_part1,rango)\n",
    "    for s in range(0,rango):\n",
    "        grupo2.append(grupo[s])\n",
    "    inicio=inicio+rango\n",
    "    time.sleep(60)\n",
    "    \n",
    "    print(i,\"  \",len(grupo2))\n"
   ]
  },
  {
   "cell_type": "code",
   "execution_count": 28,
   "metadata": {},
   "outputs": [],
   "source": [
    "grupo4=[]\n",
    "total2=len(df_link2)-1"
   ]
  },
  {
   "cell_type": "code",
   "execution_count": 37,
   "metadata": {},
   "outputs": [
    {
     "name": "stdout",
     "output_type": "stream",
     "text": [
      "8    295\n"
     ]
    }
   ],
   "source": [
    "parcial2=int(total2/10)\n",
    "inicio=0\n",
    "for i in range(0,parcial2):\n",
    "    cantidad=inicio+5\n",
    "    df_link_part1 = df_link2.iloc[inicio:cantidad]\n",
    "    df_link_part1 = df_link_part1.reset_index(drop=True)\n",
    "    \n",
    "    rango=cantidad-inicio\n",
    "    \n",
    "    grupo3=agrupa_textos(df_link_part2,rango)\n",
    "    for s in range(0,rango):\n",
    "        grupo4.append(grupo3[s])\n",
    "        inicio=inicio+rango\n",
    "        time.sleep(60)\n"
   ]
  },
  {
   "cell_type": "code",
   "execution_count": 38,
   "metadata": {},
   "outputs": [
    {
     "name": "stdout",
     "output_type": "stream",
     "text": [
      "295\n"
     ]
    }
   ],
   "source": [
    "print(len(grupo4))"
   ]
  },
  {
   "cell_type": "markdown",
   "metadata": {},
   "source": [
    "Conversión del Texto a Base de Datos. Formalmente se convierte en Filas con 83 columnas de separacón\n",
    "Se entregan dos dataframes: El de 83 columnas y otro de 1 sola columna con Join"
   ]
  },
  {
   "cell_type": "code",
   "execution_count": null,
   "metadata": {},
   "outputs": [],
   "source": [
    "df_textos_train=pd.DataFrame(grupo2)\n",
    "df_texto2=pd.DataFrame(columns=['textos'])\n",
    "df_texto2['textos'] = df_textos_train.apply(lambda x: ','.join(set(x.astype(str))), axis=1)"
   ]
  },
  {
   "cell_type": "code",
   "execution_count": 39,
   "metadata": {},
   "outputs": [],
   "source": [
    "df_textos_test=pd.DataFrame(grupo4)\n",
    "df_texto3=pd.DataFrame(columns=['textos'])\n",
    "df_texto3['textos'] = df_textos_test.apply(lambda x: ','.join(set(x.astype(str))), axis=1)"
   ]
  },
  {
   "cell_type": "code",
   "execution_count": null,
   "metadata": {},
   "outputs": [],
   "source": [
    "#Probando la data\n",
    "print(df_texto2.loc[0])\n"
   ]
  },
  {
   "cell_type": "code",
   "execution_count": 40,
   "metadata": {},
   "outputs": [
    {
     "name": "stdout",
     "output_type": "stream",
     "text": [
      "textos    <p>Decidí que Alexandria no pisará la cárcel p...\n",
      "Name: 0, dtype: object\n"
     ]
    }
   ],
   "source": [
    "print(df_texto3.loc[0])"
   ]
  },
  {
   "cell_type": "markdown",
   "metadata": {},
   "source": [
    "Primer Entregable: Archivos en csv con los textos de las paginas html descargadas. \n",
    "Segunda parte: Limpieza:\n",
    "1.- juntar Columna de Verificación (Noticia Real, Noticia Falsa), eliminar filas con https errados\n",
    "2.- Retirar textos de formato y de indicación fuera del contexto de la notica\n",
    "3.- Eliminar artículos y otras palabras irrelevantes para la vectorización. \n"
   ]
  },
  {
   "cell_type": "code",
   "execution_count": null,
   "metadata": {},
   "outputs": [],
   "source": [
    "df_textos_train.to_csv(r'C:\\Users\\Jorge Pablo\\Documents\\PUCP\\II_MineriaWeb\\Trabajo\\FakeNewCorpusSpanish_V1\\textoseparado_train.csv',encoding='utf-8')\n",
    "df_texto2.to_csv(r'C:\\Users\\Jorge Pablo\\Documents\\PUCP\\II_MineriaWeb\\Trabajo\\FakeNewCorpusSpanish_V1\\textojunto_train.csv',encoding='utf-8')"
   ]
  },
  {
   "cell_type": "code",
   "execution_count": 41,
   "metadata": {},
   "outputs": [],
   "source": [
    "df_textos_test.to_csv(r'C:\\Users\\Jorge Pablo\\Documents\\PUCP\\II_MineriaWeb\\Trabajo\\FakeNewCorpusSpanish_V1\\textoseparado_test.csv',encoding='utf-8')\n",
    "df_texto3.to_csv(r'C:\\Users\\Jorge Pablo\\Documents\\PUCP\\II_MineriaWeb\\Trabajo\\FakeNewCorpusSpanish_V1\\textojunto_test.csv',encoding='utf-8')"
   ]
  },
  {
   "cell_type": "markdown",
   "metadata": {},
   "source": [
    "SEGUNDA ETAPA: LIMPIEZA DE DATOS \n",
    "a- Eliminar paginas fallidas\n",
    "    a.1- Juntar datos con la variable característica\n",
    "    a.2- Eliminar filas fallidas"
   ]
  },
  {
   "cell_type": "code",
   "execution_count": 21,
   "metadata": {},
   "outputs": [
    {
     "data": {
      "text/html": [
       "<div>\n",
       "<style scoped>\n",
       "    .dataframe tbody tr th:only-of-type {\n",
       "        vertical-align: middle;\n",
       "    }\n",
       "\n",
       "    .dataframe tbody tr th {\n",
       "        vertical-align: top;\n",
       "    }\n",
       "\n",
       "    .dataframe thead th {\n",
       "        text-align: right;\n",
       "    }\n",
       "</style>\n",
       "<table border=\"1\" class=\"dataframe\">\n",
       "  <thead>\n",
       "    <tr style=\"text-align: right;\">\n",
       "      <th></th>\n",
       "      <th>Unnamed: 0</th>\n",
       "      <th>0</th>\n",
       "      <th>1</th>\n",
       "      <th>2</th>\n",
       "      <th>3</th>\n",
       "      <th>4</th>\n",
       "      <th>5</th>\n",
       "      <th>6</th>\n",
       "      <th>7</th>\n",
       "      <th>8</th>\n",
       "      <th>...</th>\n",
       "      <th>107</th>\n",
       "      <th>108</th>\n",
       "      <th>109</th>\n",
       "      <th>110</th>\n",
       "      <th>111</th>\n",
       "      <th>112</th>\n",
       "      <th>113</th>\n",
       "      <th>114</th>\n",
       "      <th>115</th>\n",
       "      <th>116</th>\n",
       "    </tr>\n",
       "  </thead>\n",
       "  <tbody>\n",
       "    <tr>\n",
       "      <th>0</th>\n",
       "      <td>0</td>\n",
       "      <td>0</td>\n",
       "      <td>&lt;p class=\"site-title\"&gt;&lt;a href=\"https://www.elr...</td>\n",
       "      <td>&lt;p class=\"site-description\"&gt;Las noticias en di...</td>\n",
       "      <td>&lt;p&gt;España.- El presidente de la Real Academia ...</td>\n",
       "      <td>&lt;p&gt;Darío señaló que “Lady” servirá para defini...</td>\n",
       "      <td>&lt;p&gt;“Son contadas las palabras del idioma inglé...</td>\n",
       "      <td>&lt;p&gt;La gente podrá decirle Lady a una fémina qu...</td>\n",
       "      <td>&lt;p&gt;Villanueva presentó a los medios la definic...</td>\n",
       "      <td>&lt;p&gt;&lt;strong&gt;-Lady&lt;/strong&gt;&lt;/p&gt;</td>\n",
       "      <td>...</td>\n",
       "      <td>NaN</td>\n",
       "      <td>NaN</td>\n",
       "      <td>NaN</td>\n",
       "      <td>NaN</td>\n",
       "      <td>NaN</td>\n",
       "      <td>NaN</td>\n",
       "      <td>NaN</td>\n",
       "      <td>NaN</td>\n",
       "      <td>NaN</td>\n",
       "      <td>NaN</td>\n",
       "    </tr>\n",
       "    <tr>\n",
       "      <th>1</th>\n",
       "      <td>1</td>\n",
       "      <td>1</td>\n",
       "      <td>N</td>\n",
       "      <td>A</td>\n",
       "      <td>NaN</td>\n",
       "      <td>NaN</td>\n",
       "      <td>NaN</td>\n",
       "      <td>NaN</td>\n",
       "      <td>NaN</td>\n",
       "      <td>NaN</td>\n",
       "      <td>...</td>\n",
       "      <td>NaN</td>\n",
       "      <td>NaN</td>\n",
       "      <td>NaN</td>\n",
       "      <td>NaN</td>\n",
       "      <td>NaN</td>\n",
       "      <td>NaN</td>\n",
       "      <td>NaN</td>\n",
       "      <td>NaN</td>\n",
       "      <td>NaN</td>\n",
       "      <td>NaN</td>\n",
       "    </tr>\n",
       "    <tr>\n",
       "      <th>2</th>\n",
       "      <td>2</td>\n",
       "      <td>2</td>\n",
       "      <td>&lt;p class=\"site-title\"&gt;&lt;a href=\"https://www.elr...</td>\n",
       "      <td>&lt;p class=\"site-description\"&gt;Las noticias en di...</td>\n",
       "      <td>&lt;p&gt;México.- El director de la Secretaría de Ed...</td>\n",
       "      <td>&lt;p&gt;Aurelio señala que decidió contratar a Yord...</td>\n",
       "      <td>&lt;p&gt;“Desafortunadamente el gobierno ya no tiene...</td>\n",
       "      <td>&lt;p&gt;Nuño menciona que el conductor explicará a ...</td>\n",
       "      <td>&lt;p&gt;“Queremos que los niños lleguen a sus casas...</td>\n",
       "      <td>&lt;p&gt;El director menciona que Yordi redactará lo...</td>\n",
       "      <td>...</td>\n",
       "      <td>NaN</td>\n",
       "      <td>NaN</td>\n",
       "      <td>NaN</td>\n",
       "      <td>NaN</td>\n",
       "      <td>NaN</td>\n",
       "      <td>NaN</td>\n",
       "      <td>NaN</td>\n",
       "      <td>NaN</td>\n",
       "      <td>NaN</td>\n",
       "      <td>NaN</td>\n",
       "    </tr>\n",
       "    <tr>\n",
       "      <th>3</th>\n",
       "      <td>3</td>\n",
       "      <td>3</td>\n",
       "      <td>N</td>\n",
       "      <td>A</td>\n",
       "      <td>NaN</td>\n",
       "      <td>NaN</td>\n",
       "      <td>NaN</td>\n",
       "      <td>NaN</td>\n",
       "      <td>NaN</td>\n",
       "      <td>NaN</td>\n",
       "      <td>...</td>\n",
       "      <td>NaN</td>\n",
       "      <td>NaN</td>\n",
       "      <td>NaN</td>\n",
       "      <td>NaN</td>\n",
       "      <td>NaN</td>\n",
       "      <td>NaN</td>\n",
       "      <td>NaN</td>\n",
       "      <td>NaN</td>\n",
       "      <td>NaN</td>\n",
       "      <td>NaN</td>\n",
       "    </tr>\n",
       "    <tr>\n",
       "      <th>4</th>\n",
       "      <td>4</td>\n",
       "      <td>4</td>\n",
       "      <td>&lt;p&gt;&lt;img alt=\"*\" height=\"1\" src=\"http://b.score...</td>\n",
       "      <td>&lt;p&gt;Hay un solo presidente&lt;/p&gt;</td>\n",
       "      <td>&lt;p&gt;Sigue la campaña negacionista del fujimoris...</td>\n",
       "      <td>&lt;p&gt;De acuerdo a esta organización, el Minister...</td>\n",
       "      <td>&lt;p&gt;La Cnddhh denunció que esto sería el result...</td>\n",
       "      <td>&lt;p&gt;En este proceso de revisión, se habrían rea...</td>\n",
       "      <td>&lt;p&gt;La Cnddhh sostuvo que esto tiene la finalid...</td>\n",
       "      <td>&lt;p&gt;Este es el pronunciamiento de la Cnddhh:&lt;/p&gt;</td>\n",
       "      <td>...</td>\n",
       "      <td>NaN</td>\n",
       "      <td>NaN</td>\n",
       "      <td>NaN</td>\n",
       "      <td>NaN</td>\n",
       "      <td>NaN</td>\n",
       "      <td>NaN</td>\n",
       "      <td>NaN</td>\n",
       "      <td>NaN</td>\n",
       "      <td>NaN</td>\n",
       "      <td>NaN</td>\n",
       "    </tr>\n",
       "  </tbody>\n",
       "</table>\n",
       "<p>5 rows × 118 columns</p>\n",
       "</div>"
      ],
      "text/plain": [
       "   Unnamed: 0  0                                                  1  \\\n",
       "0           0  0  <p class=\"site-title\"><a href=\"https://www.elr...   \n",
       "1           1  1                                                  N   \n",
       "2           2  2  <p class=\"site-title\"><a href=\"https://www.elr...   \n",
       "3           3  3                                                  N   \n",
       "4           4  4  <p><img alt=\"*\" height=\"1\" src=\"http://b.score...   \n",
       "\n",
       "                                                   2  \\\n",
       "0  <p class=\"site-description\">Las noticias en di...   \n",
       "1                                                  A   \n",
       "2  <p class=\"site-description\">Las noticias en di...   \n",
       "3                                                  A   \n",
       "4                      <p>Hay un solo presidente</p>   \n",
       "\n",
       "                                                   3  \\\n",
       "0  <p>España.- El presidente de la Real Academia ...   \n",
       "1                                                NaN   \n",
       "2  <p>México.- El director de la Secretaría de Ed...   \n",
       "3                                                NaN   \n",
       "4  <p>Sigue la campaña negacionista del fujimoris...   \n",
       "\n",
       "                                                   4  \\\n",
       "0  <p>Darío señaló que “Lady” servirá para defini...   \n",
       "1                                                NaN   \n",
       "2  <p>Aurelio señala que decidió contratar a Yord...   \n",
       "3                                                NaN   \n",
       "4  <p>De acuerdo a esta organización, el Minister...   \n",
       "\n",
       "                                                   5  \\\n",
       "0  <p>“Son contadas las palabras del idioma inglé...   \n",
       "1                                                NaN   \n",
       "2  <p>“Desafortunadamente el gobierno ya no tiene...   \n",
       "3                                                NaN   \n",
       "4  <p>La Cnddhh denunció que esto sería el result...   \n",
       "\n",
       "                                                   6  \\\n",
       "0  <p>La gente podrá decirle Lady a una fémina qu...   \n",
       "1                                                NaN   \n",
       "2  <p>Nuño menciona que el conductor explicará a ...   \n",
       "3                                                NaN   \n",
       "4  <p>En este proceso de revisión, se habrían rea...   \n",
       "\n",
       "                                                   7  \\\n",
       "0  <p>Villanueva presentó a los medios la definic...   \n",
       "1                                                NaN   \n",
       "2  <p>“Queremos que los niños lleguen a sus casas...   \n",
       "3                                                NaN   \n",
       "4  <p>La Cnddhh sostuvo que esto tiene la finalid...   \n",
       "\n",
       "                                                   8  ...  107  108  109  110  \\\n",
       "0                      <p><strong>-Lady</strong></p>  ...  NaN  NaN  NaN  NaN   \n",
       "1                                                NaN  ...  NaN  NaN  NaN  NaN   \n",
       "2  <p>El director menciona que Yordi redactará lo...  ...  NaN  NaN  NaN  NaN   \n",
       "3                                                NaN  ...  NaN  NaN  NaN  NaN   \n",
       "4    <p>Este es el pronunciamiento de la Cnddhh:</p>  ...  NaN  NaN  NaN  NaN   \n",
       "\n",
       "   111  112  113  114  115  116  \n",
       "0  NaN  NaN  NaN  NaN  NaN  NaN  \n",
       "1  NaN  NaN  NaN  NaN  NaN  NaN  \n",
       "2  NaN  NaN  NaN  NaN  NaN  NaN  \n",
       "3  NaN  NaN  NaN  NaN  NaN  NaN  \n",
       "4  NaN  NaN  NaN  NaN  NaN  NaN  \n",
       "\n",
       "[5 rows x 118 columns]"
      ]
     },
     "execution_count": 21,
     "metadata": {},
     "output_type": "execute_result"
    }
   ],
   "source": [
    "df_http=pd.read_csv(r'C:\\Users\\Jorge Pablo\\Documents\\PUCP\\II_MineriaWeb\\Trabajo\\FakeNewCorpusSpanish_V1\\textoseparado_train.csv')\n",
    "df_objetivo=df.drop(['Link','Topic','Source','Headline','Text'] ,axis=1)    \n",
    "df_objetivo.head()"
   ]
  },
  {
   "cell_type": "code",
   "execution_count": 58,
   "metadata": {},
   "outputs": [
    {
     "data": {
      "text/html": [
       "<div>\n",
       "<style scoped>\n",
       "    .dataframe tbody tr th:only-of-type {\n",
       "        vertical-align: middle;\n",
       "    }\n",
       "\n",
       "    .dataframe tbody tr th {\n",
       "        vertical-align: top;\n",
       "    }\n",
       "\n",
       "    .dataframe thead th {\n",
       "        text-align: right;\n",
       "    }\n",
       "</style>\n",
       "<table border=\"1\" class=\"dataframe\">\n",
       "  <thead>\n",
       "    <tr style=\"text-align: right;\">\n",
       "      <th></th>\n",
       "      <th>Category</th>\n",
       "    </tr>\n",
       "  </thead>\n",
       "  <tbody>\n",
       "    <tr>\n",
       "      <th>0</th>\n",
       "      <td>Fake</td>\n",
       "    </tr>\n",
       "    <tr>\n",
       "      <th>1</th>\n",
       "      <td>Fake</td>\n",
       "    </tr>\n",
       "    <tr>\n",
       "      <th>2</th>\n",
       "      <td>Fake</td>\n",
       "    </tr>\n",
       "    <tr>\n",
       "      <th>3</th>\n",
       "      <td>True</td>\n",
       "    </tr>\n",
       "    <tr>\n",
       "      <th>4</th>\n",
       "      <td>Fake</td>\n",
       "    </tr>\n",
       "  </tbody>\n",
       "</table>\n",
       "</div>"
      ],
      "text/plain": [
       "  Category\n",
       "0     Fake\n",
       "1     Fake\n",
       "2     Fake\n",
       "3     True\n",
       "4     Fake"
      ]
     },
     "execution_count": 58,
     "metadata": {},
     "output_type": "execute_result"
    }
   ],
   "source": [
    "df_objetivo.head()"
   ]
  },
  {
   "cell_type": "code",
   "execution_count": 105,
   "metadata": {},
   "outputs": [
    {
     "data": {
      "text/plain": [
       "(676, 119)"
      ]
     },
     "execution_count": 105,
     "metadata": {},
     "output_type": "execute_result"
    }
   ],
   "source": [
    "df_completo=pd.concat([df_http,df_objetivo],axis=1)\n",
    "df_completo.shape"
   ]
  },
  {
   "cell_type": "code",
   "execution_count": 121,
   "metadata": {},
   "outputs": [],
   "source": [
    "df_prueba = df_completo.dropna(subset=['3'])"
   ]
  },
  {
   "cell_type": "code",
   "execution_count": 122,
   "metadata": {},
   "outputs": [
    {
     "data": {
      "text/plain": [
       "(370, 119)"
      ]
     },
     "execution_count": 122,
     "metadata": {},
     "output_type": "execute_result"
    }
   ],
   "source": [
    "df_prueba.shape"
   ]
  },
  {
   "cell_type": "code",
   "execution_count": 125,
   "metadata": {},
   "outputs": [
    {
     "name": "stdout",
     "output_type": "stream",
     "text": [
      "201\n"
     ]
    }
   ],
   "source": [
    "print(len(df_prueba.loc[df_prueba['Category']=='Fake']))"
   ]
  },
  {
   "cell_type": "code",
   "execution_count": null,
   "metadata": {},
   "outputs": [],
   "source": []
  }
 ],
 "metadata": {
  "kernelspec": {
   "display_name": "Python 3",
   "language": "python",
   "name": "python3"
  }
 },
 "nbformat": 4,
 "nbformat_minor": 2
}
