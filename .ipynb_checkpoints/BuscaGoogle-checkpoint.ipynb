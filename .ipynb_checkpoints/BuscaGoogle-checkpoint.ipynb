{
 "cells": [
  {
   "cell_type": "code",
   "execution_count": 1,
   "metadata": {},
   "outputs": [],
   "source": [
    "#Importando librerias\n",
    "import pandas as pd\n",
    "import numpy as np\n",
    "from urllib.request import FancyURLopener\n",
    "from bs4 import BeautifulSoup\n",
    "import requests\n",
    "import urllib"
   ]
  },
  {
   "cell_type": "markdown",
   "metadata": {},
   "source": [
    "Extracción y Preparación de la Data"
   ]
  },
  {
   "cell_type": "code",
   "execution_count": 4,
   "metadata": {},
   "outputs": [],
   "source": [
    "#Extrayendo la data para análisis\n",
    "#NOTA: PARA JALAR LA DATA DE OTRA PC, CAMBIAR LA RUTA DE s A LA NUEVA RUTA\n",
    "s=r'C:\\Users\\Jorge Pablo\\Documents\\PUCP\\II_MineriaWeb\\Trabajo\\FakeNewCorpusSpanish_V1\\train.xlsx'\n",
    "archivo=pd.ExcelFile(s)\n",
    "hoja=archivo.sheet_names"
   ]
  },
  {
   "cell_type": "code",
   "execution_count": 6,
   "metadata": {},
   "outputs": [
    {
     "data": {
      "text/html": [
       "<div>\n",
       "<style scoped>\n",
       "    .dataframe tbody tr th:only-of-type {\n",
       "        vertical-align: middle;\n",
       "    }\n",
       "\n",
       "    .dataframe tbody tr th {\n",
       "        vertical-align: top;\n",
       "    }\n",
       "\n",
       "    .dataframe thead th {\n",
       "        text-align: right;\n",
       "    }\n",
       "</style>\n",
       "<table border=\"1\" class=\"dataframe\">\n",
       "  <thead>\n",
       "    <tr style=\"text-align: right;\">\n",
       "      <th></th>\n",
       "      <th>Category</th>\n",
       "      <th>Topic</th>\n",
       "      <th>Source</th>\n",
       "      <th>Headline</th>\n",
       "      <th>Text</th>\n",
       "      <th>Link</th>\n",
       "    </tr>\n",
       "  </thead>\n",
       "  <tbody>\n",
       "    <tr>\n",
       "      <th>0</th>\n",
       "      <td>Fake</td>\n",
       "      <td>Education</td>\n",
       "      <td>El Ruinaversal</td>\n",
       "      <td>RAE INCLUIRÁ LA PALABRA \"LADY\" EN EL DICCIONAR...</td>\n",
       "      <td>RAE INCLUIRÁ LA PALABRA \"LADY\" EN EL DICCIONAR...</td>\n",
       "      <td>http://www.elruinaversal.com/2017/06/10/rae-in...</td>\n",
       "    </tr>\n",
       "    <tr>\n",
       "      <th>1</th>\n",
       "      <td>Fake</td>\n",
       "      <td>Education</td>\n",
       "      <td>Hay noticia</td>\n",
       "      <td>La palabra \"haiga\", aceptada por la RAE</td>\n",
       "      <td>La palabra \"haiga\", aceptada por la RAE La Rea...</td>\n",
       "      <td>https://haynoticia.es/la-palabra-haiga-aceptad...</td>\n",
       "    </tr>\n",
       "    <tr>\n",
       "      <th>2</th>\n",
       "      <td>Fake</td>\n",
       "      <td>Education</td>\n",
       "      <td>El Ruinaversal</td>\n",
       "      <td>YORDI ROSADO ESCRIBIRÁ Y DISEÑARÁ LOS NUEVOS L...</td>\n",
       "      <td>YORDI ROSADO ESCRIBIRÁ Y DISEÑARÁ LOS NUEVOS L...</td>\n",
       "      <td>http://www.elruinaversal.com/2018/05/06/yordi-...</td>\n",
       "    </tr>\n",
       "    <tr>\n",
       "      <th>3</th>\n",
       "      <td>True</td>\n",
       "      <td>Education</td>\n",
       "      <td>EL UNIVERSAL</td>\n",
       "      <td>UNAM capacitará a maestros para aprobar prueba...</td>\n",
       "      <td>UNAM capacitará a maestros para aprobar prueba...</td>\n",
       "      <td>http://www.eluniversal.com.mx/articulo/nacion/...</td>\n",
       "    </tr>\n",
       "    <tr>\n",
       "      <th>4</th>\n",
       "      <td>Fake</td>\n",
       "      <td>Education</td>\n",
       "      <td>Lamula</td>\n",
       "      <td>pretenden aprobar libros escolares con conteni...</td>\n",
       "      <td>Alerta: pretenden aprobar libros escolares con...</td>\n",
       "      <td>https://redaccion.lamula.pe/2018/06/19/memoria...</td>\n",
       "    </tr>\n",
       "  </tbody>\n",
       "</table>\n",
       "</div>"
      ],
      "text/plain": [
       "  Category      Topic          Source  \\\n",
       "0     Fake  Education  El Ruinaversal   \n",
       "1     Fake  Education     Hay noticia   \n",
       "2     Fake  Education  El Ruinaversal   \n",
       "3     True  Education    EL UNIVERSAL   \n",
       "4     Fake  Education          Lamula   \n",
       "\n",
       "                                            Headline  \\\n",
       "0  RAE INCLUIRÁ LA PALABRA \"LADY\" EN EL DICCIONAR...   \n",
       "1            La palabra \"haiga\", aceptada por la RAE   \n",
       "2  YORDI ROSADO ESCRIBIRÁ Y DISEÑARÁ LOS NUEVOS L...   \n",
       "3  UNAM capacitará a maestros para aprobar prueba...   \n",
       "4  pretenden aprobar libros escolares con conteni...   \n",
       "\n",
       "                                                Text  \\\n",
       "0  RAE INCLUIRÁ LA PALABRA \"LADY\" EN EL DICCIONAR...   \n",
       "1  La palabra \"haiga\", aceptada por la RAE La Rea...   \n",
       "2  YORDI ROSADO ESCRIBIRÁ Y DISEÑARÁ LOS NUEVOS L...   \n",
       "3  UNAM capacitará a maestros para aprobar prueba...   \n",
       "4  Alerta: pretenden aprobar libros escolares con...   \n",
       "\n",
       "                                                Link  \n",
       "0  http://www.elruinaversal.com/2017/06/10/rae-in...  \n",
       "1  https://haynoticia.es/la-palabra-haiga-aceptad...  \n",
       "2  http://www.elruinaversal.com/2018/05/06/yordi-...  \n",
       "3  http://www.eluniversal.com.mx/articulo/nacion/...  \n",
       "4  https://redaccion.lamula.pe/2018/06/19/memoria...  "
      ]
     },
     "execution_count": 6,
     "metadata": {},
     "output_type": "execute_result"
    }
   ],
   "source": [
    "df=archivo.parse('Hoja de datos')\n",
    "df.head()"
   ]
  },
  {
   "cell_type": "code",
   "execution_count": 7,
   "metadata": {},
   "outputs": [
    {
     "data": {
      "text/plain": [
       "(676, 6)"
      ]
     },
     "execution_count": 7,
     "metadata": {},
     "output_type": "execute_result"
    }
   ],
   "source": [
    "df.shape"
   ]
  },
  {
   "cell_type": "code",
   "execution_count": 8,
   "metadata": {},
   "outputs": [],
   "source": [
    "#obtener solo las paginas http\n",
    "df_link=df.drop(['Category','Topic','Source','Headline','Text'] ,axis=1)\n",
    "#Convirtiendo la data http de tipo objeto a string para uso en FancyURLopener\n",
    "df_link=df_link['Link'].astype(str)"
   ]
  },
  {
   "cell_type": "code",
   "execution_count": 9,
   "metadata": {},
   "outputs": [
    {
     "name": "stdout",
     "output_type": "stream",
     "text": [
      "http://www.elruinaversal.com/2017/06/10/rae-incluira-la-palabra-lady-en-el-diccionario-del-idioma-espanol-como-definicion-de-mujer-problematica/\n"
     ]
    }
   ],
   "source": [
    "#por ahora- prueba con una pagina http\n",
    "rw_prueba=df_link[0]\n",
    "print(rw_prueba)"
   ]
  },
  {
   "cell_type": "code",
   "execution_count": 11,
   "metadata": {},
   "outputs": [
    {
     "name": "stderr",
     "output_type": "stream",
     "text": [
      "C:\\Users\\Jorge Pablo\\Anaconda3\\lib\\site-packages\\ipykernel_launcher.py:3: DeprecationWarning: MyOpener style of invoking requests is deprecated. Use newer urlopen functions/methods\n",
      "  This is separate from the ipykernel package so we can avoid doing imports until\n"
     ]
    }
   ],
   "source": [
    "class MyOpener(FancyURLopener):\n",
    "    version = 'Mozilla/5.0 (Windows; U; Windows NT 5.1; it; rv:1.8.1.11) Gecko/20071127 Firefox/2.0.0.11'\n",
    "myopener = MyOpener()"
   ]
  },
  {
   "cell_type": "code",
   "execution_count": 14,
   "metadata": {},
   "outputs": [],
   "source": [
    "html=myopener.open(rw_prueba).read()"
   ]
  },
  {
   "cell_type": "markdown",
   "metadata": {},
   "source": [
    "Aplicación de Beautifulsoup y obtención del texto"
   ]
  },
  {
   "cell_type": "code",
   "execution_count": 15,
   "metadata": {},
   "outputs": [],
   "source": [
    "soup=BeautifulSoup(html,\"lxml\")"
   ]
  },
  {
   "cell_type": "code",
   "execution_count": 16,
   "metadata": {},
   "outputs": [
    {
     "data": {
      "text/plain": [
       "(26,)"
      ]
     },
     "execution_count": 16,
     "metadata": {},
     "output_type": "execute_result"
    }
   ],
   "source": [
    "p_tags = soup.findAll('p')\n",
    "len(p_tags),"
   ]
  },
  {
   "cell_type": "code",
   "execution_count": 17,
   "metadata": {},
   "outputs": [
    {
     "name": "stdout",
     "output_type": "stream",
     "text": [
      "[<p class=\"site-title\"><a href=\"https://www.elruinaversal.com/\" rel=\"home\">El Ruinaversal</a></p>, <p class=\"site-description\">Las noticias en directo, como son y sin rodeos</p>, <p>España.- El presidente de la Real Academia Española (RAE), Darío Villanueva, informó en conferencia de prensa que a partir del próximo mes se incluirá el término “Lady” como una nueva palabra en el diccionario del idioma español.</p>, <p>Darío señaló que “Lady” servirá para definir a una “mujer problemática” o a una “mujer que causa problemas”, y mencionó que esta palabra será una de las pocas que también se utilizan en el idioma inglés pero que en castellano tiene un significado diferente:</p>, <p>“Son contadas las palabras del idioma inglés que se utilizan en el español pero que tienen otro significado. Con la globalización las personas han comenzado a adoptar términos anglosajones pero los utilizan con su significado real, sin embargo en este caso la expresión Lady no significará lo mismo que en su idioma original (“dama” en inglés) sino que se usará para definir a una mujer que es problemática o acostumbra causar problemas y alborotos.</p>, <p>La gente podrá decirle Lady a una fémina que cause algún escándalo, sea agresiva o provoque algún tipo de problema. El término dejara de considerarse una palabra exclusiva del idioma inglés ya que tras se incluida en el diccionario de la lengua española también pasara ser una palabra oficial del castellano, pero con un significado distinto”, confesó.</p>, <p>Villanueva presentó a los medios la definición oficial que aparecerá en los diccionarios, señalando que será la siguiente:</p>, <p><strong>-Lady</strong></p>, <p><strong>Del anglosajón Ænglisc, part. de Difficilis ‘problematica’, ferox ‘agresiva’</strong></p>, <p><strong>1.- adj. f. Mujer excesivamente problemática</strong></p>, <p><strong>2.- adj. f. Mujer que causa problemas o alborotos</strong></p>, <p><strong>3.- adj. f. Mujer que tiende a causar conflictos, es agresiva</strong></p>, <p><strong>4.- adj. f. Mujer que se guía por sus instintos animales, que no le importa crear conflictos</strong></p>, <p>El presidente señaló que fue uno de los miembros mexicanos de la RAE quien propuso incluir la palabra, y tras meses de análisis finamente fue aceptada por el comité:</p>, <p>“Es una término que tuvo su origen en México pero se usará en todos los países de habla hispana. Los videos de las Lady´s que han circulado nos sirvieron para crear una perfecta definición, la cual servirá para resumir y definir a una hembra problemática”, dijo</p>, <p>Por último, Darío reveló que también ya se encuentran analizando la idea de incluir el término Lord en el diccionario, que sería el equivalente a la definición masculina de Lady.</p>, <p>Por: Omar Ariel Cortes</p>, <p><fb:comments-count href=\"https://www.elruinaversal.com/2017/06/10/rae-incluira-la-palabra-lady-en-el-diccionario-del-idioma-espanol-como-definicion-de-mujer-problematica/\"></fb:comments-count> comments</p>, <p class=\"comment-notes\"><span id=\"email-notes\">Tu dirección de correo electrónico no será publicada.</span></p>, <p class=\"comment-form-comment\"><label for=\"comment\">Comentario</label> <textarea cols=\"45\" id=\"comment\" maxlength=\"65525\" name=\"comment\" required=\"required\" rows=\"8\"></textarea></p>, <p class=\"comment-form-author\"><label for=\"author\">Nombre</label> <input id=\"author\" maxlength=\"245\" name=\"author\" size=\"30\" type=\"text\" value=\"\"/></p>, <p class=\"comment-form-email\"><label for=\"email\">Correo electrónico</label> <input aria-describedby=\"email-notes\" id=\"email\" maxlength=\"100\" name=\"email\" size=\"30\" type=\"email\" value=\"\"/></p>, <p class=\"comment-form-url\"><label for=\"url\">Web</label> <input id=\"url\" maxlength=\"200\" name=\"url\" size=\"30\" type=\"url\" value=\"\"/></p>, <p class=\"form-submit\"><input class=\"submit\" id=\"submit\" name=\"submit\" type=\"submit\" value=\"Publicar comentario\"/> <input id=\"comment_post_ID\" name=\"comment_post_ID\" type=\"hidden\" value=\"1784\"/>\n",
      "<input id=\"comment_parent\" name=\"comment_parent\" type=\"hidden\" value=\"0\"/>\n",
      "</p>, <p style=\"display: none;\"><input id=\"akismet_comment_nonce\" name=\"akismet_comment_nonce\" type=\"hidden\" value=\"ca6fc3dc41\"/></p>, <p style=\"display: none;\"><input id=\"ak_js\" name=\"ak_js\" type=\"hidden\" value=\"132\"/></p>]\n"
     ]
    }
   ],
   "source": [
    "print(p_tags)"
   ]
  },
  {
   "cell_type": "code",
   "execution_count": null,
   "metadata": {},
   "outputs": [],
   "source": []
  }
 ],
 "metadata": {
  "kernelspec": {
   "display_name": "Python 3",
   "language": "python",
   "name": "python3"
  },
  "language_info": {
   "codemirror_mode": {
    "name": "ipython",
    "version": 3
   },
   "file_extension": ".py",
   "mimetype": "text/x-python",
   "name": "python",
   "nbconvert_exporter": "python",
   "pygments_lexer": "ipython3",
   "version": "3.7.3"
  }
 },
 "nbformat": 4,
 "nbformat_minor": 2
}
