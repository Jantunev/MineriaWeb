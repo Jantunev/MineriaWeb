{
 "cells": [
  {
   "cell_type": "code",
   "execution_count": 1,
   "metadata": {},
   "outputs": [],
   "source": [
    "import pandas as pd\n",
    "import os\n",
    "import re\n",
    "import unicodedata"
   ]
  },
  {
   "cell_type": "code",
   "execution_count": 2,
   "metadata": {},
   "outputs": [],
   "source": [
    "train_http=pd.read_csv(r'C:\\Users\\Jorge Pablo\\Documents\\PUCP\\II_MineriaWeb\\Trabajo\\FakeNewCorpusSpanish_V1\\train_http.csv',encoding='utf-8')"
   ]
  },
  {
   "cell_type": "code",
   "execution_count": 3,
   "metadata": {},
   "outputs": [
    {
     "data": {
      "text/plain": [
       "(369, 2)"
      ]
     },
     "execution_count": 3,
     "metadata": {},
     "output_type": "execute_result"
    }
   ],
   "source": [
    "train_http.shape"
   ]
  },
  {
   "cell_type": "code",
   "execution_count": 4,
   "metadata": {},
   "outputs": [
    {
     "data": {
      "text/html": [
       "<div>\n",
       "<style scoped>\n",
       "    .dataframe tbody tr th:only-of-type {\n",
       "        vertical-align: middle;\n",
       "    }\n",
       "\n",
       "    .dataframe tbody tr th {\n",
       "        vertical-align: top;\n",
       "    }\n",
       "\n",
       "    .dataframe thead th {\n",
       "        text-align: right;\n",
       "    }\n",
       "</style>\n",
       "<table border=\"1\" class=\"dataframe\">\n",
       "  <thead>\n",
       "    <tr style=\"text-align: right;\">\n",
       "      <th></th>\n",
       "      <th>0</th>\n",
       "      <th>['&lt;p class=\"site-title\"&gt;&lt;a href=\"https://www.elruinaversal.com/\" rel=\"home\"&gt;El Ruinaversal&lt;/a&gt;&lt;/p&gt;', '&lt;p class=\"site-description\"&gt;Las noticias en directo, como son y sin rodeos&lt;/p&gt;', '&lt;p&gt;España.- El presidente de la Real Academia Española (RAE), Darío Villanueva, informó en conferencia de prensa que a partir del próximo mes se incluirá el término “Lady” como una nueva palabra en el diccionario del idioma español.&lt;/p&gt;', '&lt;p&gt;Darío señaló que “Lady” servirá para definir a una “mujer problemática” o a una “mujer que causa problemas”, y mencionó que esta palabra será una de las pocas que también se utilizan en el idioma inglés pero que en castellano tiene un significado diferente:&lt;/p&gt;', '&lt;p&gt;“Son contadas las palabras del idioma inglés que se utilizan en el español pero que tienen otro significado. Con la globalización las personas han comenzado a adoptar términos anglosajones pero los utilizan con su significado real, sin embargo en este caso la expresión Lady no significará lo mismo que en su idioma original (“dama” en inglés) sino que se usará para definir a una mujer que es problemática o acostumbra causar problemas y alborotos.&lt;/p&gt;', '&lt;p&gt;La gente podrá decirle Lady a una fémina que cause algún escándalo, sea agresiva o provoque algún tipo de problema. El término dejara de considerarse una palabra exclusiva del idioma inglés ya que tras se incluida en el diccionario de la lengua española también pasara ser una palabra oficial del castellano, pero con un significado distinto”, confesó.&lt;/p&gt;', '&lt;p&gt;Villanueva presentó a los medios la definición oficial que aparecerá en los diccionarios, señalando que será la siguiente:&lt;/p&gt;', '&lt;p&gt;&lt;strong&gt;-Lady&lt;/strong&gt;&lt;/p&gt;', '&lt;p&gt;&lt;strong&gt;Del anglosajón Ænglisc, part. de Difficilis ‘problematica’, ferox ‘agresiva’&lt;/strong&gt;&lt;/p&gt;', '&lt;p&gt;&lt;strong&gt;1.- adj. f. Mujer excesivamente problemática&lt;/strong&gt;&lt;/p&gt;', '&lt;p&gt;&lt;strong&gt;2.- adj. f. Mujer que causa problemas o alborotos&lt;/strong&gt;&lt;/p&gt;', '&lt;p&gt;&lt;strong&gt;3.- adj. f. Mujer que tiende a causar conflictos, es agresiva&lt;/strong&gt;&lt;/p&gt;', '&lt;p&gt;&lt;strong&gt;4.- adj. f. Mujer que se guía por sus instintos animales, que no le importa crear conflictos&lt;/strong&gt;&lt;/p&gt;', '&lt;p&gt;El presidente señaló que fue uno de los miembros mexicanos de la RAE quien propuso incluir la palabra, y tras meses de análisis finamente fue aceptada por el comité:&lt;/p&gt;', '&lt;p&gt;“Es una término que tuvo su origen en México pero se usará en todos los países de habla hispana. Los videos de las Lady´s que han circulado nos sirvieron para crear una perfecta definición, la cual servirá para resumir y definir a una hembra problemática”, dijo&lt;/p&gt;', '&lt;p&gt;Por último, Darío reveló que también ya se encuentran analizando la idea de incluir el término Lord en el diccionario, que sería el equivalente a la definición masculina de Lady.&lt;/p&gt;', '&lt;p&gt;Por: Omar Ariel Cortes&lt;/p&gt;', '&lt;p&gt;&lt;fb:comments-count href=\"https://www.elruinaversal.com/2017/06/10/rae-incluira-la-palabra-lady-en-el-diccionario-del-idioma-espanol-como-definicion-de-mujer-problematica/\"&gt;&lt;/fb:comments-count&gt; comments&lt;/p&gt;', '&lt;p class=\"comment-notes\"&gt;&lt;span id=\"email-notes\"&gt;Tu dirección de correo electrónico no será publicada.&lt;/span&gt;&lt;/p&gt;', '&lt;p class=\"comment-form-comment\"&gt;&lt;label for=\"comment\"&gt;Comentario&lt;/label&gt; &lt;textarea cols=\"45\" id=\"comment\" maxlength=\"65525\" name=\"comment\" required=\"required\" rows=\"8\"&gt;&lt;/textarea&gt;&lt;/p&gt;', '&lt;p class=\"comment-form-author\"&gt;&lt;label for=\"author\"&gt;Nombre&lt;/label&gt; &lt;input id=\"author\" maxlength=\"245\" name=\"author\" size=\"30\" type=\"text\" value=\"\"/&gt;&lt;/p&gt;', '&lt;p class=\"comment-form-email\"&gt;&lt;label for=\"email\"&gt;Correo electrónico&lt;/label&gt; &lt;input aria-describedby=\"email-notes\" id=\"email\" maxlength=\"100\" name=\"email\" size=\"30\" type=\"email\" value=\"\"/&gt;&lt;/p&gt;', '&lt;p class=\"comment-form-url\"&gt;&lt;label for=\"url\"&gt;Web&lt;/label&gt; &lt;input id=\"url\" maxlength=\"200\" name=\"url\" size=\"30\" type=\"url\" value=\"\"/&gt;&lt;/p&gt;', '&lt;p class=\"form-submit\"&gt;&lt;input class=\"submit\" id=\"submit\" name=\"submit\" type=\"submit\" value=\"Publicar comentario\"/&gt; &lt;input id=\"comment_post_ID\" name=\"comment_post_ID\" type=\"hidden\" value=\"1784\"/&gt;\\n&lt;input id=\"comment_parent\" name=\"comment_parent\" type=\"hidden\" value=\"0\"/&gt;\\n&lt;/p&gt;', '&lt;p style=\"display: none;\"&gt;&lt;input id=\"akismet_comment_nonce\" name=\"akismet_comment_nonce\" type=\"hidden\" value=\"f8b763d2a2\"/&gt;&lt;/p&gt;', '&lt;p style=\"display: none;\"&gt;&lt;input id=\"ak_js\" name=\"ak_js\" type=\"hidden\" value=\"203\"/&gt;&lt;/p&gt;']</th>\n",
       "    </tr>\n",
       "  </thead>\n",
       "  <tbody>\n",
       "    <tr>\n",
       "      <th>0</th>\n",
       "      <td>1</td>\n",
       "      <td>['&lt;p class=\"site-title\"&gt;&lt;a href=\"https://www.e...</td>\n",
       "    </tr>\n",
       "    <tr>\n",
       "      <th>1</th>\n",
       "      <td>2</td>\n",
       "      <td>['&lt;p&gt;&lt;img alt=\"*\" height=\"1\" src=\"http://b.sco...</td>\n",
       "    </tr>\n",
       "    <tr>\n",
       "      <th>2</th>\n",
       "      <td>3</td>\n",
       "      <td>['&lt;p class=\"epigraph\" id=\"m39-38-40\"&gt;Cerca de ...</td>\n",
       "    </tr>\n",
       "    <tr>\n",
       "      <th>3</th>\n",
       "      <td>4</td>\n",
       "      <td>['&lt;p class=\"site-title\"&gt;&lt;a href=\"https://www.e...</td>\n",
       "    </tr>\n",
       "    <tr>\n",
       "      <th>4</th>\n",
       "      <td>5</td>\n",
       "      <td>['&lt;p id=\"skip-link\"&gt;\\n&lt;a class=\"element-invisi...</td>\n",
       "    </tr>\n",
       "  </tbody>\n",
       "</table>\n",
       "</div>"
      ],
      "text/plain": [
       "   0  \\\n",
       "0  1   \n",
       "1  2   \n",
       "2  3   \n",
       "3  4   \n",
       "4  5   \n",
       "\n",
       "  ['<p class=\"site-title\"><a href=\"https://www.elruinaversal.com/\" rel=\"home\">El Ruinaversal</a></p>', '<p class=\"site-description\">Las noticias en directo, como son y sin rodeos</p>', '<p>España.- El presidente de la Real Academia Española (RAE), Darío Villanueva, informó en conferencia de prensa que a partir del próximo mes se incluirá el término “Lady” como una nueva palabra en el diccionario del idioma español.</p>', '<p>Darío señaló que “Lady” servirá para definir a una “mujer problemática” o a una “mujer que causa problemas”, y mencionó que esta palabra será una de las pocas que también se utilizan en el idioma inglés pero que en castellano tiene un significado diferente:</p>', '<p>“Son contadas las palabras del idioma inglés que se utilizan en el español pero que tienen otro significado. Con la globalización las personas han comenzado a adoptar términos anglosajones pero los utilizan con su significado real, sin embargo en este caso la expresión Lady no significará lo mismo que en su idioma original (“dama” en inglés) sino que se usará para definir a una mujer que es problemática o acostumbra causar problemas y alborotos.</p>', '<p>La gente podrá decirle Lady a una fémina que cause algún escándalo, sea agresiva o provoque algún tipo de problema. El término dejara de considerarse una palabra exclusiva del idioma inglés ya que tras se incluida en el diccionario de la lengua española también pasara ser una palabra oficial del castellano, pero con un significado distinto”, confesó.</p>', '<p>Villanueva presentó a los medios la definición oficial que aparecerá en los diccionarios, señalando que será la siguiente:</p>', '<p><strong>-Lady</strong></p>', '<p><strong>Del anglosajón Ænglisc, part. de Difficilis ‘problematica’, ferox ‘agresiva’</strong></p>', '<p><strong>1.- adj. f. Mujer excesivamente problemática</strong></p>', '<p><strong>2.- adj. f. Mujer que causa problemas o alborotos</strong></p>', '<p><strong>3.- adj. f. Mujer que tiende a causar conflictos, es agresiva</strong></p>', '<p><strong>4.- adj. f. Mujer que se guía por sus instintos animales, que no le importa crear conflictos</strong></p>', '<p>El presidente señaló que fue uno de los miembros mexicanos de la RAE quien propuso incluir la palabra, y tras meses de análisis finamente fue aceptada por el comité:</p>', '<p>“Es una término que tuvo su origen en México pero se usará en todos los países de habla hispana. Los videos de las Lady´s que han circulado nos sirvieron para crear una perfecta definición, la cual servirá para resumir y definir a una hembra problemática”, dijo</p>', '<p>Por último, Darío reveló que también ya se encuentran analizando la idea de incluir el término Lord en el diccionario, que sería el equivalente a la definición masculina de Lady.</p>', '<p>Por: Omar Ariel Cortes</p>', '<p><fb:comments-count href=\"https://www.elruinaversal.com/2017/06/10/rae-incluira-la-palabra-lady-en-el-diccionario-del-idioma-espanol-como-definicion-de-mujer-problematica/\"></fb:comments-count> comments</p>', '<p class=\"comment-notes\"><span id=\"email-notes\">Tu dirección de correo electrónico no será publicada.</span></p>', '<p class=\"comment-form-comment\"><label for=\"comment\">Comentario</label> <textarea cols=\"45\" id=\"comment\" maxlength=\"65525\" name=\"comment\" required=\"required\" rows=\"8\"></textarea></p>', '<p class=\"comment-form-author\"><label for=\"author\">Nombre</label> <input id=\"author\" maxlength=\"245\" name=\"author\" size=\"30\" type=\"text\" value=\"\"/></p>', '<p class=\"comment-form-email\"><label for=\"email\">Correo electrónico</label> <input aria-describedby=\"email-notes\" id=\"email\" maxlength=\"100\" name=\"email\" size=\"30\" type=\"email\" value=\"\"/></p>', '<p class=\"comment-form-url\"><label for=\"url\">Web</label> <input id=\"url\" maxlength=\"200\" name=\"url\" size=\"30\" type=\"url\" value=\"\"/></p>', '<p class=\"form-submit\"><input class=\"submit\" id=\"submit\" name=\"submit\" type=\"submit\" value=\"Publicar comentario\"/> <input id=\"comment_post_ID\" name=\"comment_post_ID\" type=\"hidden\" value=\"1784\"/>\\n<input id=\"comment_parent\" name=\"comment_parent\" type=\"hidden\" value=\"0\"/>\\n</p>', '<p style=\"display: none;\"><input id=\"akismet_comment_nonce\" name=\"akismet_comment_nonce\" type=\"hidden\" value=\"f8b763d2a2\"/></p>', '<p style=\"display: none;\"><input id=\"ak_js\" name=\"ak_js\" type=\"hidden\" value=\"203\"/></p>']  \n",
       "0  ['<p class=\"site-title\"><a href=\"https://www.e...                                                                                                                                                                                                                                                                                                                                                                                                                                                                                                                                                                                                                                                                                                                                                                                                                                                                                                                                                                                                                                                                                                                                                                                                                                                                                                                                                                                                                                                                                                                                                                                                                                                                                                                                                                                                                                                                                                                                                                                                                                                                                                                                                                                                                                                                                                                                                                                                                                                                                                                                                                                                                                                                                                                                                                                                                                                                                                                                                                                                                                                                                                                                                                                                                                                                                                                                                                                                                                                                                                                                                                                                                                                                                                                                                                                                                                                                                                                                                                                                                                                                                                                                                                                                                                                                                                                                                                                                                                             \n",
       "1  ['<p><img alt=\"*\" height=\"1\" src=\"http://b.sco...                                                                                                                                                                                                                                                                                                                                                                                                                                                                                                                                                                                                                                                                                                                                                                                                                                                                                                                                                                                                                                                                                                                                                                                                                                                                                                                                                                                                                                                                                                                                                                                                                                                                                                                                                                                                                                                                                                                                                                                                                                                                                                                                                                                                                                                                                                                                                                                                                                                                                                                                                                                                                                                                                                                                                                                                                                                                                                                                                                                                                                                                                                                                                                                                                                                                                                                                                                                                                                                                                                                                                                                                                                                                                                                                                                                                                                                                                                                                                                                                                                                                                                                                                                                                                                                                                                                                                                                                                                             \n",
       "2  ['<p class=\"epigraph\" id=\"m39-38-40\">Cerca de ...                                                                                                                                                                                                                                                                                                                                                                                                                                                                                                                                                                                                                                                                                                                                                                                                                                                                                                                                                                                                                                                                                                                                                                                                                                                                                                                                                                                                                                                                                                                                                                                                                                                                                                                                                                                                                                                                                                                                                                                                                                                                                                                                                                                                                                                                                                                                                                                                                                                                                                                                                                                                                                                                                                                                                                                                                                                                                                                                                                                                                                                                                                                                                                                                                                                                                                                                                                                                                                                                                                                                                                                                                                                                                                                                                                                                                                                                                                                                                                                                                                                                                                                                                                                                                                                                                                                                                                                                                                             \n",
       "3  ['<p class=\"site-title\"><a href=\"https://www.e...                                                                                                                                                                                                                                                                                                                                                                                                                                                                                                                                                                                                                                                                                                                                                                                                                                                                                                                                                                                                                                                                                                                                                                                                                                                                                                                                                                                                                                                                                                                                                                                                                                                                                                                                                                                                                                                                                                                                                                                                                                                                                                                                                                                                                                                                                                                                                                                                                                                                                                                                                                                                                                                                                                                                                                                                                                                                                                                                                                                                                                                                                                                                                                                                                                                                                                                                                                                                                                                                                                                                                                                                                                                                                                                                                                                                                                                                                                                                                                                                                                                                                                                                                                                                                                                                                                                                                                                                                                             \n",
       "4  ['<p id=\"skip-link\">\\n<a class=\"element-invisi...                                                                                                                                                                                                                                                                                                                                                                                                                                                                                                                                                                                                                                                                                                                                                                                                                                                                                                                                                                                                                                                                                                                                                                                                                                                                                                                                                                                                                                                                                                                                                                                                                                                                                                                                                                                                                                                                                                                                                                                                                                                                                                                                                                                                                                                                                                                                                                                                                                                                                                                                                                                                                                                                                                                                                                                                                                                                                                                                                                                                                                                                                                                                                                                                                                                                                                                                                                                                                                                                                                                                                                                                                                                                                                                                                                                                                                                                                                                                                                                                                                                                                                                                                                                                                                                                                                                                                                                                                                             "
      ]
     },
     "execution_count": 4,
     "metadata": {},
     "output_type": "execute_result"
    }
   ],
   "source": [
    "train_http.head()"
   ]
  },
  {
   "cell_type": "code",
   "execution_count": 5,
   "metadata": {},
   "outputs": [],
   "source": [
    "train_http=train_http.drop(train_http.columns[0],axis=1)\n"
   ]
  },
  {
   "cell_type": "code",
   "execution_count": 29,
   "metadata": {},
   "outputs": [
    {
     "name": "stdout",
     "output_type": "stream",
     "text": [
      "['<p>El hallazgo\\xa0de una serie de cartas de llamado padre del psicoanálisis, Sigmund Freud, ha sacado a la luz un detalle <strong>que podría cambiar para siempre no sólo la visión que se tenía de su trabajo, sino del futuro de esta disciplina. </strong></p>', '<p>De acuerdo a lo que el mismo sabio especificó en sus escritos, <strong>él no creía en el psicoanálisis, sino que sólo lo usaba como estrategia para ligar.</strong></p>', '<p>El profesor <strong>Solsticio Schoppenhaggen,</strong> reconocido historiador y biógrafo de Freud, fue quien comunicó al mundo sus descubrimientos: \"De acuerdo a la correspondencia que encontramos, Sigmund se carteaba con uno de sus amigos, <strong>diciéndole lo terriblemente difícil que era para él conseguir sexo,</strong> pues aseguraba que todas las mujeres que conocía eran muy mojigatas y reprimidas”.</p>', '<p>Tras de unos dos meses de quejarse continuamente en cada epístola, su ánimo cambió notablemente. En su correspondencia, citaba que convenciendo\\xa0a las damas <strong>que todo lo que pensaban y hacían en realidad estaba motivado por el sexo,</strong> era para él mucho más fácil llevárselas a la cama.</p>', '<p>El mismo Freud acepta en sus escritos que ni él mismo se lo creía, <strong>pero que se vio obligado a escribir algunos libros para que no comenzaran a rumorar que todo era un truco.</strong></p>', '<p>“En muchas de las cartas, <strong>dirigidas a su amigo, que sólo conocemos como Erich F.,</strong> le aconsejaba que comenzara a usar la técnica también, que le sería muy útil. En ese sentido, su amigo no parecía muy de acuerdo, <strong>pues él sostenía que el amar debería ser un arte, y su aspiración, más que el ligue, era dominar el arte de amar\".</strong></p>', '<p>El historiador nos prometió que en cuanto hubiera nuevos descubrimientos, <strong>nos lo haría saber de inmediato.</strong></p>', '<p> \\n                    MÉXICO, 1810 — La madrugada de hoy, un grupo de ciudadanos de la más baja ralea,                </p>', '<p> \\n                    CIUDAD DE MÉXICO, 1847 — Desde el día de ayer, el ejército norteamericano ha atacado esta                </p>', '<p> \\n                    JERUSALÉN, AÑO 33 — Gran despliegue policiaco se llevó a cabo la tarde de este jueves                </p>', '<p></p>', '<p id=\"subscribe-email\">\\n<label class=\"screen-reader-text\" for=\"subscribe-field-blog_subscription-3\" id=\"jetpack-subscribe-label\">\\n\\t\\t\\t\\t\\t\\t\\tAnota tu email                        </label>\\n<input class=\"required\" id=\"subscribe-field-blog_subscription-3\" name=\"email\" placeholder=\"Anota tu email\" required=\"required\" type=\"email\" value=\"\"/>\\n</p>', '<p id=\"subscribe-submit\">\\n<input name=\"action\" type=\"hidden\" value=\"subscribe\"/>\\n<input name=\"source\" type=\"hidden\" value=\"https://www.eldizque.com/se-descubre-que-sigmund-freud-invento-el-psicoanalisis-como-un-metodo-para-ligar/\"/>\\n<input name=\"sub-type\" type=\"hidden\" value=\"widget\"/>\\n<input name=\"redirect_fragment\" type=\"hidden\" value=\"blog_subscription-3\"/>\\n<button name=\"jetpack_subscriptions_widget\" type=\"submit\">\\n\\t                        Enviar                        </button>\\n</p>', '<p class=\"copyright\">© Copyright ElDizque 2016. All rights reserved - Revillagigedo 18, México DF - contacto@eldizque.com - Una producción de Kol.mx</p>']\n"
     ]
    }
   ],
   "source": [
    "print(train_http.iloc[12,0])"
   ]
  },
  {
   "cell_type": "code",
   "execution_count": 7,
   "metadata": {},
   "outputs": [],
   "source": [
    "conversion_dict={'á':'a','é':'e','í':'i','ó':'o','ú':'u','ü':'u','Á':'A','É':'E','Í':'I','Ó':'O','Ú':'U','ñ':'n'}"
   ]
  },
  {
   "cell_type": "code",
   "execution_count": 15,
   "metadata": {},
   "outputs": [
    {
     "name": "stdout",
     "output_type": "stream",
     "text": [
      "['<p>El hallazgo\\xa0de una serie de cartas de llamado padre del psicoanálisis, Sigmund Freud, ha sacado a la luz un detalle <strong>que podría cambiar para siempre no sólo la visión que se tenía de su trabajo, sino del futuro de esta disciplina. </strong></p>', '<p>De acuerdo a lo que el mismo sabio especificó en sus escritos, <strong>él no creía en el psicoanálisis, sino que sólo lo usaba como estrategia para ligar.</strong></p>', '<p>El profesor <strong>Solsticio Schoppenhaggen,</strong> reconocido historiador y biógrafo de Freud, fue quien comunicó al mundo sus descubrimientos: \"De acuerdo a la correspondencia que encontramos, Sigmund se carteaba con uno de sus amigos, <strong>diciéndole lo terriblemente difícil que era para él conseguir sexo,</strong> pues aseguraba que todas las mujeres que conocía eran muy mojigatas y reprimidas”.</p>', '<p>Tras de unos dos meses de quejarse continuamente en cada epístola, su ánimo cambió notablemente. En su correspondencia, citaba que convenciendo\\xa0a las damas <strong>que todo lo que pensaban y hacían en realidad estaba motivado por el sexo,</strong> era para él mucho más fácil llevárselas a la cama.</p>', '<p>El mismo Freud acepta en sus escritos que ni él mismo se lo creía, <strong>pero que se vio obligado a escribir algunos libros para que no comenzaran a rumorar que todo era un truco.</strong></p>', '<p>“En muchas de las cartas, <strong>dirigidas a su amigo, que sólo conocemos como Erich F.,</strong> le aconsejaba que comenzara a usar la técnica también, que le sería muy útil. En ese sentido, su amigo no parecía muy de acuerdo, <strong>pues él sostenía que el amar debería ser un arte, y su aspiración, más que el ligue, era dominar el arte de amar\".</strong></p>', '<p>El historiador nos prometió que en cuanto hubiera nuevos descubrimientos, <strong>nos lo haría saber de inmediato.</strong></p>', '<p> \\n                    MÉXICO, 1810 — La madrugada de hoy, un grupo de ciudadanos de la más baja ralea,                </p>', '<p> \\n                    CIUDAD DE MÉXICO, 1847 — Desde el día de ayer, el ejército norteamericano ha atacado esta                </p>', '<p> \\n                    JERUSALÉN, AÑO 33 — Gran despliegue policiaco se llevó a cabo la tarde de este jueves                </p>', '<p></p>', '<p id=\"subscribe-email\">\\n<label class=\"screen-reader-text\" for=\"subscribe-field-blog_subscription-3\" id=\"jetpack-subscribe-label\">\\n\\t\\t\\t\\t\\t\\t\\tAnota tu email                        </label>\\n<input class=\"required\" id=\"subscribe-field-blog_subscription-3\" name=\"email\" placeholder=\"Anota tu email\" required=\"required\" type=\"email\" value=\"\"/>\\n</p>', '<p id=\"subscribe-submit\">\\n<input name=\"action\" type=\"hidden\" value=\"subscribe\"/>\\n<input name=\"source\" type=\"hidden\" value=\"https://www.eldizque.com/se-descubre-que-sigmund-freud-invento-el-psicoanalisis-como-un-metodo-para-ligar/\"/>\\n<input name=\"sub-type\" type=\"hidden\" value=\"widget\"/>\\n<input name=\"redirect_fragment\" type=\"hidden\" value=\"blog_subscription-3\"/>\\n<button name=\"jetpack_subscriptions_widget\" type=\"submit\">\\n\\t                        Enviar                        </button>\\n</p>', '<p class=\"copyright\">© Copyright ElDizque 2016. All rights reserved - Revillagigedo 18, México DF - contacto@eldizque.com - Una producción de Kol.mx</p>']\n"
     ]
    }
   ],
   "source": [
    "prueba=train_http.iloc[12,0]\n",
    "print(prueba)"
   ]
  },
  {
   "cell_type": "code",
   "execution_count": 31,
   "metadata": {},
   "outputs": [],
   "source": [
    "def find_replace_multi(string, dictionary):\n",
    "    for item in dictionary.keys():\n",
    "        # sub item for item's paired value in string\n",
    "        string = re.sub(item, dictionary[item], string)\n",
    "    return string\n",
    "\n",
    "prueba=find_replace_multi(prueba, conversion_dict)\n",
    "#print(prueba)\n",
    "\n",
    "def limpieza_basica(noticia):\n",
    "    clean1 = re.findall(r'[/<]+[p]+[\\s]+[c]+[l]+[a]+[s]+[=/\"]+[A-Za-z0-9_\\s/\"/-]+[/\"/>]+[/<]+[\\w\\s/:=/\"//./>/<]+[/>]*', noticia)\n",
    "    clean2=re.sub(r'[/<]+[p]+[\\s]+[c]+[l]+[a]+[s]+[=/\"]+[A-Za-z0-9_\\s/\"/-]+[/\"/>]+[\\w\\s/:/,=/\"//./>/<]+[/>]*','', noticia)\n",
    "    clean3=re.sub(r'[/<]+[p]+[/>]+[/<]+[f]+[b]+[:]+[c]+[o]+[m]+[m]+[\\w\\W\\d]*','\\n',clean2)\n",
    "    clean4=re.sub(r'[/<]+[\\w\\d//]+[/>]+','',clean3)\n",
    "    clean5=re.sub(r'[/\\]+[x]+[a]+[0]+','',clean4)\n",
    "    clean6=re.sub(r'[/<]+[p]+[/>]+','',clean5)\n",
    "    clean7=re.sub(r'[\\<]+[\\s\\w=/\"/-]+[/>]+','',clean6)\n",
    "    clean8=re.sub(r'[\\<]+[a]+[\\s]+[h][r][e]+[f]+','\\n',clean7)\n",
    "    return clean8\n"
   ]
  },
  {
   "cell_type": "code",
   "execution_count": 41,
   "metadata": {},
   "outputs": [
    {
     "name": "stdout",
     "output_type": "stream",
     "text": [
      "['<p style=\"position: absolute; top: -999em\"><img alt=\"\" height=\"1\" src=\"https://a1.api.bbc.co.uk/hit.xiti?&amp;col=1&amp;from=p&amp;ptag=js&amp;s=598253&amp;p=also_in_the_news::mundo.also_in_the_news.story.37433981.page&amp;x1=[urn:bbc:cps:4d07f705-c2b6-ce46-b44f-c61f2bb43cbb]&amp;x2=[responsive]&amp;x3=[bbc_website]&amp;x4=[en]&amp;x7=[article]&amp;x8=[reverb-1.0.0-nojs]&amp;x11=[WS_NEWS_LANGUAGES]&amp;x12=[MUNDO]\" width=\"1\"/>', 'Comparte esta actualización en', 'Email', 'Facebook', 'Messenger', 'Messenger', 'Twitter', 'Menéame', 'LinkedIn', 'WhatsApp', '', 'Estos son vínculos a páginas externas y abrirán en una nueva ventana', '', 'La población de Japón es la más vieja del mundo y la perspectiva es que el problema sólo va a seguir creciendo: a los jóvenes no sólo no parece interesarles formar familia, ni siquiera les llama la atención el sexo.', 'En una reciente encuesta, el 42% de los hombres y el 44,2% de las mujeres que aún no se han casado dijeron ser vírgenes. ', 'Esta proporción ha aumentado con respecto al año 2010, cuando el 36,2% de los hombres y el 38,7% de las mujeres declararon no haber tenido su primera relación sexual. ', 'En la cambiante sociedad japonesa, los jóvenes están priorizando su independencia y tratan de alejarse de los \"problemas\" que puede traer una relación amorosa. ', 'Entre aquellos que aún no han contraído matrimonio, el 70% de los hombres y el 60% de las mujeres no tienen pareja. Dentro de este grupo, el 30% de los 2.706 hombres y el 26% de las 2.570 mujeres no desean comenzar una relación íntima en estos momentos.', 'El estudio cubrió un total de 8.754 personas solteras y 6.598 parejas casadas de todo el país. Japoneses heterosexuales entre 18 y 34 años conformaron la muestra analizada en junio de 2015 por el Instituto Nacional de Investigación sobre Población y Seguridad Social. Esta encuesta se aplica cada cinco años desde 1987.  ', 'En junio de 2015, una encuesta oficial había mostrado que muchos veinteañeros y treintañeros japoneses consideran que las relaciones románticas son \"molestas\", según refirió el periódico Japan Times.  ', 'Tulip Mazumdar, reportera global de salud de BBC, investigó qué hay detrás de este rechazo a la intimidad. La respuesta que se encontró entre los jóvenes fue que todos estaban muy ocupados como para iniciar un noviazgo.', 'Hugo, de 26 años, plantea: \"Cuando te casas, la mujer se encarga de las labores domésticas mientras que el hombre tiene que trabajar fuera para conseguir el sustento familiar. Esa idea está muy enraizada en la cultura japonesa\". ', 'Luego confiesa que las responsabilidades asociadas a la vida familiar amenazarían su estilo de vida actual.   ', 'Hugo no ha tenido una novia en los últimos 6 o 7 años, aunque confiesa que podría estar interesado en una relación. Con timidez declara a BBC que la última vez que tuvo sexo fue hace \"un año atrás\".', 'Pero Hugo no es el único que, de algún modo, ve en la soltería una garantía de felicidad. Varias jóvenes también dijeron a BBC que querían seguir gozando la libertad de la que disponen como solteras.', 'Del mismo modo, Kenji Takana va a cumplir 50 años y, como él mismo reconoce, pertenece al grupo de personas que \"se supone debería estar criando a sus hijos\". ', 'En cambio, para Takana, esa no es la meta. \"Quiero disfrutar mi vida\". ', 'Mientras tanto, Atsuko Ouchi, de 39 años, explica que no frecuenta clubes nocturnos ni otros lugares donde supuestamente podría conocer hombres solteros. ', 'Aunque los sitios de citas online pueden funcionar para otras personas. \"Yo nunca he buscado una relación online\", comenta. ', 'Erika, de 27 años, ofrece otro punto de vista cuando asegura que, tradicionalmente, a los hombres japoneses no les atraen las mujeres \"con opiniones\".', 'Mientras tanto, Minami, una mujer de 26 años nacida en Tokio que vivió casi 15 años en Australia, apunta a que \"para muchos japoneses es difícil abrirse a otra persona\". ', '\"Esto es, obviamente, una generalización, pero me parece que muchos jóvenes japoneses le temen al contacto con otras personas. Es evidente la falta de confianza en sí mismos. Creo que eso tiene que ver con las presiones sociales y escolares\", ilustra Erika. ', 'El incremento de veinteañeros sin pareja resulta preocupante para la sociedad con la población más envejecida del mundo. Esa es la edad en que, según diversos estudios científicos, las mujeres son más fértiles. ', 'La situación resulta tan alarmante que los economistas Hiroshi Yoshida y Masahiro Ishigaki, de la Universidad de Tohoku, crearon un reloj digital para estimar el día que los japoneses se extinguirán si las cosas siguen como van: proyectan que el 16 de agosto de 3.766 solo quede un japonés vivo.   ', 'Las autoridades japonesas están tratando de revertir la rápida y descontrolada disminución de la población japonesa. Una reducción de 200.000 o 300.000 personas por año son las cifras que maneja el Instituto Nacional de Investigación sobre Población y Seguridad Social. ', 'Según expone el periódico Japan Times, la administración del primer ministro Shinzo Abe se ha propuesto aumentar la tasa de fertilidad del 1,4 actual a un 1,8 en 2025. ', 'El gobierno ha ofrecido incentivos fiscales a parejas casadas y ha ampliado los servicios de cuidado de niños con el fin de estimular la maternidad. ', 'La Asociación Japonesa de Planificación Familiar publicó recientemente una encuesta aplicada a personas entre 18 y 49 años en la que el 49,3% de la muestra dijo que no había tenido sexo en el último mes, según indica el periódico británico The Independent. ', 'Esta proporción aumentó en un 10% con respecto a dos años atrás. Tanto mujeres como hombres atribuyeron esta falta de deseo sexual al desbalance entre su vida laboral y su vida privada. ', 'El cansancio después de largas horas de trabajo afecta a muchos hombres, quienes pueden cumplir alrededor de unas 60 horas a la semana, narra la reportera de la BBC Tulip Mazumdar. ', 'Por otra parte, el reinicio fallido de las relaciones sexuales después del nacimiento de los hijos es uno de los factores que más afectan a las parejas casadas. ', 'Entre quienes todavía no se casan, las pobres habilidades comunicativas, una limitada educación sexual, la presión social y escolar, el temor a recibir una negativa por parte de la otra persona, además del poco tiempo libre del que disponen, parecen reforzar el celibato durante largos periodos de tiempo.', 'Otro elemento a tener en cuenta es la disponibilidad de métodos anticonceptivos. Según ilustra Mazumdar, las pastillas anticonceptivas han estado a la venta en Japón solo desde finales del siglo pasado y continúan siendo relativamente costosas. ', 'Fenómenos similares se pueden observar en otras partes del mundo, sobre todo en los países industrializados. La inestabilidad económica parece estar afectando la manera en que las generaciones más jóvenes manejan su vida sexual y elaboran sus ideas sobre el matrimonio.  ', 'Para el jefe del Departamento de Investigación de Dinámicas Poblacionales del Instituto, Futoshi Ishii, otro elemento resulta relevante a la hora de examinar las aspiraciones de los encuestados, quienes en su mayoría esperan casarse en algún momento. ', 'Ishii declara al Japan Times que la distancia entre ideales y realidad podría estar desanimándolos a la hora de buscar intimidad.', 'Y, de este modo, la \"industria\" de substitutos de relaciones completa la desalentadora imagen. ', 'A pesar de que las relaciones románticas no son prioridad para muchos jóvenes japoneses, las necesidades emocionales no siempre desaparecen. Para aliviarlas, el mercado japonés ofrece una amplia gama de opciones.      ', 'Por ejemplo, Mazumdar explica que contratar a una persona del sexo opuesto para pasear y conversar por un rato se ha convertido en una práctica relativamente común. Esto resulta muy conveniente para quienes se \"asustan\" ante la idea de una relación más intensa. ', 'Para el director de audiovisuales Hiroshi Kurosaki, \"en el mundo real, tener una pareja estable es muy difícil\".', '\"A menudo fallamos intentando construir una relación amorosa.\"', 'En una sociedad como esta, donde la sobreabundancia de imágenes sexualizadas contrasta con la falta de actividad sexual, los videos hentai (pornografía animada) son un producto muy popular. ', 'Kurosaki lo resume de este modo: el hentai es muy exitoso entre los consumidores japoneses porque es más simbólico e irreal. ', 'La última vez que Atsuki Ouchi tuvo sexo fue hace algunos años, cree recordar que seis. Ella agrega que esa es una pregunta muy difícil de responder: ', '\"Los japoneses no son personas que traten el tema a menudo\", señala.', '\"La mitad de mis amigos se casó cuando tenían unos veinte años y tuvo sus hijos. El resto nunca se ha casado ni está en una relación\". ', 'Ouchi vive sola y es independiente económicamente. \"Tuve la suerte de encontrar trabajo en Tokio. Fue una excelente oportunidad para mi carrera y decidí mudarme\". ', 'Ella está de acuerdo con que solo se puede tener una de dos cosas: carrera o familia. ', 'Según revela la encuesta recién publicada, en cuanto al entusiasmo por la vida en pareja, no hay discrepancias demasiado relevantes entre ambos géneros. La única excepción sería, quizás, lo que el Japan Times define como \"el viejo problema de las diferencias entre el significado que hombres y mujeres le otorgan a la palabra \\'compromiso\\'\".', 'Pero los testimonios que varias jóvenes japonesas ofrecieron a la BBC apuntan a la existencia de otra brecha entre hombres y mujeres. ', 'Aunque la proporción de mujeres que han vuelto a trabajar después de tener su primer hijo es superior al 50% por primera vez en la historia del país, el ambiente laboral japonés continúa sin ser totalmente favorable para las madres. ', '\"Siento que no puedo tener ambas cosas. Y yo estoy eligiendo tener trabajo sobre tener hijos\", dice Minami. ', 'Tanto ella como Erika sienten que esta es una decisión que necesariamente deben tomar. ', '\"Si bien no quiero tener hijos en ningún lugar, Japón es el último país que escogería para tenerlos\", asegura Minami. ']\n"
     ]
    }
   ],
   "source": [
    "clean_par=[]\n",
    "data=len(train_http)-1\n",
    "for i in range (0,data):\n",
    "    noticia=limpieza_basica(train_http.iloc[i,0])\n",
    "    clean_par.append(noticia)\n",
    "print(clean_par[25])"
   ]
  },
  {
   "cell_type": "code",
   "execution_count": 40,
   "metadata": {},
   "outputs": [
    {
     "name": "stdout",
     "output_type": "stream",
     "text": [
      "['<p><strong>Los automóviles marca <a href=\"http://www.eldizque.com/tag/audi\" target=\"_blank\">Audi</a> se han visto envueltos en vergonzosas situaciones en la Ciudad de México debido a sus conductores,</strong> que de inmediato han sido expuestos en las redes sociales. Es por ello que la empresa alemana ha decidido tomar cartas en el asunto, <strong>pues esto está causándoles muy mala publicidad.</strong></p>', '<p>El vocero de la empresa en México, el señor <strong>Albert Wiennerkammerorchester,</strong> informó que a partir de ahora, la marca se llamará, cuando menos en México, <strong>Ehrlich,</strong> que en alemán significa <em>honesto.</em></p>', '<p><strong>\"Das ist richtig, junger Mann.</strong> Entre todos los #LordAudi y #LadyAudi que ya hay en México, el nombre de nuestros automóviles se ha visto muy desprestigiado. <strong>Como empresa, no nos gusta que nuestro nombre se relacione con gente prepotente, irresponsable y poco ética,</strong> Gott helfe uns! Por ello, nuestro nuevo nombre busca relacionarse más con aspectos más positivos, y de ese modo, <strong>todos los lords y ladies ya no tendrán nada que ver con nosotros\".</strong></p>', '<p>A partir del día de mañana, ninguna agencia venderá alguno de estos automóviles <strong>sin realizarle antes al comprador un examen psicológico,</strong> y sólo se venderá el auto si demuestra tener el nivel ético y moral que busca la empresa. \"La industria alemana tiene una reputación que cuidar, y no dejaremos que detalles como éste la arruinen. <strong>Deutschland ist wunderschön!\".</strong></p>', '<p>Esperamos no ver próximamente <strong>a los #HerrEhrlich y #FrauEhrlich.</strong></p>', '<p>\\xa0</p>', '<p>\\xa0</p>', '<p>\\xa0</p>', '<p><span style=\"color: #ffffff;\">.</span></p>', '<p> \\n                    Tras una serie de conflictos bastante graves entre los conductores de Uber, y la Unión de                </p>', '<p></p>', '<p id=\"subscribe-email\">\\n<label class=\"screen-reader-text\" for=\"subscribe-field-blog_subscription-3\" id=\"jetpack-subscribe-label\">\\n\\t\\t\\t\\t\\t\\t\\tAnota tu email                        </label>\\n<input class=\"required\" id=\"subscribe-field-blog_subscription-3\" name=\"email\" placeholder=\"Anota tu email\" required=\"required\" type=\"email\" value=\"\"/>\\n</p>', '<p id=\"subscribe-submit\">\\n<input name=\"action\" type=\"hidden\" value=\"subscribe\"/>\\n<input name=\"source\" type=\"hidden\" value=\"https://www.eldizque.com/la-automotriz-audi-anuncia-que-cambiara-su-nombre-en-mexico/\"/>\\n<input name=\"sub-type\" type=\"hidden\" value=\"widget\"/>\\n<input name=\"redirect_fragment\" type=\"hidden\" value=\"blog_subscription-3\"/>\\n<button name=\"jetpack_subscriptions_widget\" type=\"submit\">\\n\\t                        Enviar                        </button>\\n</p>', '<p class=\"copyright\">© Copyright ElDizque 2016. All rights reserved - Revillagigedo 18, México DF - contacto@eldizque.com - Una producción de Kol.mx</p>']\n"
     ]
    }
   ],
   "source": [
    "print(train_http.iloc[25,0])"
   ]
  },
  {
   "cell_type": "code",
   "execution_count": 17,
   "metadata": {},
   "outputs": [],
   "source": [
    "clean1 = re.findall(r'[/<]+[p]+[\\s]+[c]+[l]+[a]+[s]+[=/\"]+[A-Za-z0-9_\\s/\"/-]+[/\"/>]+[/<]+[\\w\\s/:=/\"//./>/<]+[/>]*', prueba)\n",
    "#re.findall(r'[/<]+[p]+[\\s]+[c]+[l]+[a]+[s]+[=/\"]+[A-Za-z0-9_\\s/\"/-]+[/\"/>]+[/<]+[\\w\\s/:=/\"//./>/<]+[/>]*', prueba)\n",
    "for clean in clean1:\n",
    "    print (clean1)\n",
    "\n",
    "    "
   ]
  },
  {
   "cell_type": "code",
   "execution_count": 18,
   "metadata": {},
   "outputs": [],
   "source": [
    "clean2=re.sub(r'[/<]+[p]+[\\s]+[c]+[l]+[a]+[s]+[=/\"]+[A-Za-z0-9_\\s/\"/-]+[/\"/>]+[\\w\\s/:/,=/\"//./>/<]+[/>]*','', prueba)"
   ]
  },
  {
   "cell_type": "code",
   "execution_count": 19,
   "metadata": {},
   "outputs": [
    {
     "name": "stdout",
     "output_type": "stream",
     "text": [
      "['<p>El hallazgo\\xa0de una serie de cartas de llamado padre del psicoanalisis, Sigmund Freud, ha sacado a la luz un detalle <strong>que podria cambiar para siempre no solo la vision que se tenia de su trabajo, sino del futuro de esta disciplina. </strong></p>', '<p>De acuerdo a lo que el mismo sabio especifico en sus escritos, <strong>el no creia en el psicoanalisis, sino que solo lo usaba como estrategia para ligar.</strong></p>', '<p>El profesor <strong>Solsticio Schoppenhaggen,</strong> reconocido historiador y biografo de Freud, fue quien comunico al mundo sus descubrimientos: \"De acuerdo a la correspondencia que encontramos, Sigmund se carteaba con uno de sus amigos, <strong>diciendole lo terriblemente dificil que era para el conseguir sexo,</strong> pues aseguraba que todas las mujeres que conocia eran muy mojigatas y reprimidas”.</p>', '<p>Tras de unos dos meses de quejarse continuamente en cada epistola, su animo cambio notablemente. En su correspondencia, citaba que convenciendo\\xa0a las damas <strong>que todo lo que pensaban y hacian en realidad estaba motivado por el sexo,</strong> era para el mucho mas facil llevarselas a la cama.</p>', '<p>El mismo Freud acepta en sus escritos que ni el mismo se lo creia, <strong>pero que se vio obligado a escribir algunos libros para que no comenzaran a rumorar que todo era un truco.</strong></p>', '<p>“En muchas de las cartas, <strong>dirigidas a su amigo, que solo conocemos como Erich F.,</strong> le aconsejaba que comenzara a usar la tecnica tambien, que le seria muy util. En ese sentido, su amigo no parecia muy de acuerdo, <strong>pues el sostenia que el amar deberia ser un arte, y su aspiracion, mas que el ligue, era dominar el arte de amar\".</strong></p>', '<p>El historiador nos prometio que en cuanto hubiera nuevos descubrimientos, <strong>nos lo haria saber de inmediato.</strong></p>', '<p> \\n                    MÉXICO, 1810 — La madrugada de hoy, un grupo de ciudadanos de la mas baja ralea,                </p>', '<p> \\n                    CIUDAD DE MÉXICO, 1847 — Desde el dia de ayer, el ejercito norteamericano ha atacado esta                </p>', '<p> \\n                    JERUSALÉN, AÑO 33 — Gran despliegue policiaco se llevo a cabo la tarde de este jueves                </p>', '<p></p>', '<p id=\"subscribe-email\">\\n<label class=\"screen-reader-text\" for=\"subscribe-field-blog_subscription-3\" id=\"jetpack-subscribe-label\">\\n\\t\\t\\t\\t\\t\\t\\tAnota tu email                        </label>\\n<input class=\"required\" id=\"subscribe-field-blog_subscription-3\" name=\"email\" placeholder=\"Anota tu email\" required=\"required\" type=\"email\" value=\"\"/>\\n</p>', '<p id=\"subscribe-submit\">\\n<input name=\"action\" type=\"hidden\" value=\"subscribe\"/>\\n<input name=\"source\" type=\"hidden\" value=\"https://www.eldizque.com/se-descubre-que-sigmund-freud-invento-el-psicoanalisis-como-un-metodo-para-ligar/\"/>\\n<input name=\"sub-type\" type=\"hidden\" value=\"widget\"/>\\n<input name=\"redirect_fragment\" type=\"hidden\" value=\"blog_subscription-3\"/>\\n<button name=\"jetpack_subscriptions_widget\" type=\"submit\">\\n\\t                        Enviar                        </button>\\n</p>', '© Copyright ElDizque 2016. All rights reserved - Revillagigedo 18, Mexico DF - contacto@eldizque.com - Una produccion de Kol.mx</p>']\n"
     ]
    }
   ],
   "source": [
    "print(clean2)"
   ]
  },
  {
   "cell_type": "code",
   "execution_count": 20,
   "metadata": {},
   "outputs": [
    {
     "name": "stdout",
     "output_type": "stream",
     "text": [
      "['<p>El hallazgo\\xa0de una serie de cartas de llamado padre del psicoanalisis, Sigmund Freud, ha sacado a la luz un detalle <strong>que podria cambiar para siempre no solo la vision que se tenia de su trabajo, sino del futuro de esta disciplina. </strong></p>', '<p>De acuerdo a lo que el mismo sabio especifico en sus escritos, <strong>el no creia en el psicoanalisis, sino que solo lo usaba como estrategia para ligar.</strong></p>', '<p>El profesor <strong>Solsticio Schoppenhaggen,</strong> reconocido historiador y biografo de Freud, fue quien comunico al mundo sus descubrimientos: \"De acuerdo a la correspondencia que encontramos, Sigmund se carteaba con uno de sus amigos, <strong>diciendole lo terriblemente dificil que era para el conseguir sexo,</strong> pues aseguraba que todas las mujeres que conocia eran muy mojigatas y reprimidas”.</p>', '<p>Tras de unos dos meses de quejarse continuamente en cada epistola, su animo cambio notablemente. En su correspondencia, citaba que convenciendo\\xa0a las damas <strong>que todo lo que pensaban y hacian en realidad estaba motivado por el sexo,</strong> era para el mucho mas facil llevarselas a la cama.</p>', '<p>El mismo Freud acepta en sus escritos que ni el mismo se lo creia, <strong>pero que se vio obligado a escribir algunos libros para que no comenzaran a rumorar que todo era un truco.</strong></p>', '<p>“En muchas de las cartas, <strong>dirigidas a su amigo, que solo conocemos como Erich F.,</strong> le aconsejaba que comenzara a usar la tecnica tambien, que le seria muy util. En ese sentido, su amigo no parecia muy de acuerdo, <strong>pues el sostenia que el amar deberia ser un arte, y su aspiracion, mas que el ligue, era dominar el arte de amar\".</strong></p>', '<p>El historiador nos prometio que en cuanto hubiera nuevos descubrimientos, <strong>nos lo haria saber de inmediato.</strong></p>', '<p> \\n                    MÉXICO, 1810 — La madrugada de hoy, un grupo de ciudadanos de la mas baja ralea,                </p>', '<p> \\n                    CIUDAD DE MÉXICO, 1847 — Desde el dia de ayer, el ejercito norteamericano ha atacado esta                </p>', '<p> \\n                    JERUSALÉN, AÑO 33 — Gran despliegue policiaco se llevo a cabo la tarde de este jueves                </p>', '<p></p>', '<p id=\"subscribe-email\">\\n<label class=\"screen-reader-text\" for=\"subscribe-field-blog_subscription-3\" id=\"jetpack-subscribe-label\">\\n\\t\\t\\t\\t\\t\\t\\tAnota tu email                        </label>\\n<input class=\"required\" id=\"subscribe-field-blog_subscription-3\" name=\"email\" placeholder=\"Anota tu email\" required=\"required\" type=\"email\" value=\"\"/>\\n</p>', '<p id=\"subscribe-submit\">\\n<input name=\"action\" type=\"hidden\" value=\"subscribe\"/>\\n<input name=\"source\" type=\"hidden\" value=\"https://www.eldizque.com/se-descubre-que-sigmund-freud-invento-el-psicoanalisis-como-un-metodo-para-ligar/\"/>\\n<input name=\"sub-type\" type=\"hidden\" value=\"widget\"/>\\n<input name=\"redirect_fragment\" type=\"hidden\" value=\"blog_subscription-3\"/>\\n<button name=\"jetpack_subscriptions_widget\" type=\"submit\">\\n\\t                        Enviar                        </button>\\n</p>', '© Copyright ElDizque 2016. All rights reserved - Revillagigedo 18, Mexico DF - contacto@eldizque.com - Una produccion de Kol.mx</p>']\n"
     ]
    }
   ],
   "source": [
    "clean3=re.sub(r'[/<]+[p]+[/>]+[/<]+[f]+[b]+[:]+[c]+[o]+[m]+[m]+[\\w\\W\\d]*','\\n',clean2)\n",
    "print(clean3)"
   ]
  },
  {
   "cell_type": "code",
   "execution_count": 21,
   "metadata": {},
   "outputs": [],
   "source": [
    "#clean4=re.sub(r'[\"\\n\"]+[A-Za-z0-9_\\W\\s/\"=.\\,///-]*',' ',clean3)\n",
    "\n",
    "clean4=re.sub(r'[/<]+[\\w\\d//]+[/>]+','',clean3)"
   ]
  },
  {
   "cell_type": "code",
   "execution_count": 22,
   "metadata": {},
   "outputs": [
    {
     "name": "stdout",
     "output_type": "stream",
     "text": [
      "['El hallazgo\\xa0de una serie de cartas de llamado padre del psicoanalisis, Sigmund Freud, ha sacado a la luz un detalle que podria cambiar para siempre no solo la vision que se tenia de su trabajo, sino del futuro de esta disciplina. ', 'De acuerdo a lo que el mismo sabio especifico en sus escritos, el no creia en el psicoanalisis, sino que solo lo usaba como estrategia para ligar.', 'El profesor Solsticio Schoppenhaggen, reconocido historiador y biografo de Freud, fue quien comunico al mundo sus descubrimientos: \"De acuerdo a la correspondencia que encontramos, Sigmund se carteaba con uno de sus amigos, diciendole lo terriblemente dificil que era para el conseguir sexo, pues aseguraba que todas las mujeres que conocia eran muy mojigatas y reprimidas”.', 'Tras de unos dos meses de quejarse continuamente en cada epistola, su animo cambio notablemente. En su correspondencia, citaba que convenciendo\\xa0a las damas que todo lo que pensaban y hacian en realidad estaba motivado por el sexo, era para el mucho mas facil llevarselas a la cama.', 'El mismo Freud acepta en sus escritos que ni el mismo se lo creia, pero que se vio obligado a escribir algunos libros para que no comenzaran a rumorar que todo era un truco.', '“En muchas de las cartas, dirigidas a su amigo, que solo conocemos como Erich F., le aconsejaba que comenzara a usar la tecnica tambien, que le seria muy util. En ese sentido, su amigo no parecia muy de acuerdo, pues el sostenia que el amar deberia ser un arte, y su aspiracion, mas que el ligue, era dominar el arte de amar\".', 'El historiador nos prometio que en cuanto hubiera nuevos descubrimientos, nos lo haria saber de inmediato.', ' \\n                    MÉXICO, 1810 — La madrugada de hoy, un grupo de ciudadanos de la mas baja ralea,                ', ' \\n                    CIUDAD DE MÉXICO, 1847 — Desde el dia de ayer, el ejercito norteamericano ha atacado esta                ', ' \\n                    JERUSALÉN, AÑO 33 — Gran despliegue policiaco se llevo a cabo la tarde de este jueves                ', '', '<p id=\"subscribe-email\">\\n<label class=\"screen-reader-text\" for=\"subscribe-field-blog_subscription-3\" id=\"jetpack-subscribe-label\">\\n\\t\\t\\t\\t\\t\\t\\tAnota tu email                        \\n<input class=\"required\" id=\"subscribe-field-blog_subscription-3\" name=\"email\" placeholder=\"Anota tu email\" required=\"required\" type=\"email\" value=\"\"/>\\n', '<p id=\"subscribe-submit\">\\n<input name=\"action\" type=\"hidden\" value=\"subscribe\"/>\\n<input name=\"source\" type=\"hidden\" value=\"https://www.eldizque.com/se-descubre-que-sigmund-freud-invento-el-psicoanalisis-como-un-metodo-para-ligar/\"/>\\n<input name=\"sub-type\" type=\"hidden\" value=\"widget\"/>\\n<input name=\"redirect_fragment\" type=\"hidden\" value=\"blog_subscription-3\"/>\\n<button name=\"jetpack_subscriptions_widget\" type=\"submit\">\\n\\t                        Enviar                        \\n', '© Copyright ElDizque 2016. All rights reserved - Revillagigedo 18, Mexico DF - contacto@eldizque.com - Una produccion de Kol.mx']\n"
     ]
    }
   ],
   "source": [
    "print(clean4)"
   ]
  },
  {
   "cell_type": "code",
   "execution_count": 23,
   "metadata": {},
   "outputs": [
    {
     "name": "stdout",
     "output_type": "stream",
     "text": [
      "['El hallazgo\\de una serie de cartas de llamado padre del psicoanalisis, Sigmund Freud, ha sacado a la luz un detalle que podria cambiar para siempre no solo la vision que se tenia de su trabajo, sino del futuro de esta disciplina. ', 'De acuerdo a lo que el mismo sabio especifico en sus escritos, el no creia en el psicoanalisis, sino que solo lo usaba como estrategia para ligar.', 'El profesor Solsticio Schoppenhaggen, reconocido historiador y biografo de Freud, fue quien comunico al mundo sus descubrimientos: \"De acuerdo a la correspondencia que encontramos, Sigmund se carteaba con uno de sus amigos, diciendole lo terriblemente dificil que era para el conseguir sexo, pues aseguraba que todas las mujeres que conocia eran muy mojigatas y reprimidas”.', 'Tras de unos dos meses de quejarse continuamente en cada epistola, su animo cambio notablemente. En su correspondencia, citaba que convenciendo\\a las damas que todo lo que pensaban y hacian en realidad estaba motivado por el sexo, era para el mucho mas facil llevarselas a la cama.', 'El mismo Freud acepta en sus escritos que ni el mismo se lo creia, pero que se vio obligado a escribir algunos libros para que no comenzaran a rumorar que todo era un truco.', '“En muchas de las cartas, dirigidas a su amigo, que solo conocemos como Erich F., le aconsejaba que comenzara a usar la tecnica tambien, que le seria muy util. En ese sentido, su amigo no parecia muy de acuerdo, pues el sostenia que el amar deberia ser un arte, y su aspiracion, mas que el ligue, era dominar el arte de amar\".', 'El historiador nos prometio que en cuanto hubiera nuevos descubrimientos, nos lo haria saber de inmediato.', ' \\n                    MÉXICO, 1810 — La madrugada de hoy, un grupo de ciudadanos de la mas baja ralea,                ', ' \\n                    CIUDAD DE MÉXICO, 1847 — Desde el dia de ayer, el ejercito norteamericano ha atacado esta                ', ' \\n                    JERUSALÉN, AÑO 33 — Gran despliegue policiaco se llevo a cabo la tarde de este jueves                ', '', '<p id=\"subscribe-email\">\\n<label class=\"screen-reader-text\" for=\"subscribe-field-blog_subscription-3\" id=\"jetpack-subscribe-label\">\\n\\t\\t\\t\\t\\t\\t\\tAnota tu email                        \\n<input class=\"required\" id=\"subscribe-field-blog_subscription-3\" name=\"email\" placeholder=\"Anota tu email\" required=\"required\" type=\"email\" value=\"\"/>\\n', '<p id=\"subscribe-submit\">\\n<input name=\"action\" type=\"hidden\" value=\"subscribe\"/>\\n<input name=\"source\" type=\"hidden\" value=\"https://www.eldizque.com/se-descubre-que-sigmund-freud-invento-el-psicoanalisis-como-un-metodo-para-ligar/\"/>\\n<input name=\"sub-type\" type=\"hidden\" value=\"widget\"/>\\n<input name=\"redirect_fragment\" type=\"hidden\" value=\"blog_subscription-3\"/>\\n<button name=\"jetpack_subscriptions_widget\" type=\"submit\">\\n\\t                        Enviar                        \\n', '© Copyright ElDizque 2016. All rights reserved - Revillagigedo 18, Mexico DF - contacto@eldizque.com - Una produccion de Kol.mx']\n"
     ]
    }
   ],
   "source": [
    "clean5=re.sub(r'[/\\]+[x]+[a]+[0]+','',clean4)\n",
    "print(clean5)\n"
   ]
  },
  {
   "cell_type": "code",
   "execution_count": 24,
   "metadata": {},
   "outputs": [
    {
     "name": "stdout",
     "output_type": "stream",
     "text": [
      "['El hallazgo\\de una serie de cartas de llamado padre del psicoanalisis, Sigmund Freud, ha sacado a la luz un detalle que podria cambiar para siempre no solo la vision que se tenia de su trabajo, sino del futuro de esta disciplina. ', 'De acuerdo a lo que el mismo sabio especifico en sus escritos, el no creia en el psicoanalisis, sino que solo lo usaba como estrategia para ligar.', 'El profesor Solsticio Schoppenhaggen, reconocido historiador y biografo de Freud, fue quien comunico al mundo sus descubrimientos: \"De acuerdo a la correspondencia que encontramos, Sigmund se carteaba con uno de sus amigos, diciendole lo terriblemente dificil que era para el conseguir sexo, pues aseguraba que todas las mujeres que conocia eran muy mojigatas y reprimidas”.', 'Tras de unos dos meses de quejarse continuamente en cada epistola, su animo cambio notablemente. En su correspondencia, citaba que convenciendo\\a las damas que todo lo que pensaban y hacian en realidad estaba motivado por el sexo, era para el mucho mas facil llevarselas a la cama.', 'El mismo Freud acepta en sus escritos que ni el mismo se lo creia, pero que se vio obligado a escribir algunos libros para que no comenzaran a rumorar que todo era un truco.', '“En muchas de las cartas, dirigidas a su amigo, que solo conocemos como Erich F., le aconsejaba que comenzara a usar la tecnica tambien, que le seria muy util. En ese sentido, su amigo no parecia muy de acuerdo, pues el sostenia que el amar deberia ser un arte, y su aspiracion, mas que el ligue, era dominar el arte de amar\".', 'El historiador nos prometio que en cuanto hubiera nuevos descubrimientos, nos lo haria saber de inmediato.', ' \\n                    MÉXICO, 1810 — La madrugada de hoy, un grupo de ciudadanos de la mas baja ralea,                ', ' \\n                    CIUDAD DE MÉXICO, 1847 — Desde el dia de ayer, el ejercito norteamericano ha atacado esta                ', ' \\n                    JERUSALÉN, AÑO 33 — Gran despliegue policiaco se llevo a cabo la tarde de este jueves                ', '', '<p id=\"subscribe-email\">\\n<label class=\"screen-reader-text\" for=\"subscribe-field-blog_subscription-3\" id=\"jetpack-subscribe-label\">\\n\\t\\t\\t\\t\\t\\t\\tAnota tu email                        \\n<input class=\"required\" id=\"subscribe-field-blog_subscription-3\" name=\"email\" placeholder=\"Anota tu email\" required=\"required\" type=\"email\" value=\"\"/>\\n', '<p id=\"subscribe-submit\">\\n<input name=\"action\" type=\"hidden\" value=\"subscribe\"/>\\n<input name=\"source\" type=\"hidden\" value=\"https://www.eldizque.com/se-descubre-que-sigmund-freud-invento-el-psicoanalisis-como-un-metodo-para-ligar/\"/>\\n<input name=\"sub-type\" type=\"hidden\" value=\"widget\"/>\\n<input name=\"redirect_fragment\" type=\"hidden\" value=\"blog_subscription-3\"/>\\n<button name=\"jetpack_subscriptions_widget\" type=\"submit\">\\n\\t                        Enviar                        \\n', '© Copyright ElDizque 2016. All rights reserved - Revillagigedo 18, Mexico DF - contacto@eldizque.com - Una produccion de Kol.mx']\n"
     ]
    }
   ],
   "source": [
    "clean6=re.sub(r'[/<]+[p]+[/>]+','',clean5)\n",
    "print(clean6)"
   ]
  },
  {
   "cell_type": "code",
   "execution_count": 25,
   "metadata": {},
   "outputs": [
    {
     "name": "stdout",
     "output_type": "stream",
     "text": [
      "['El hallazgo\\de una serie de cartas de llamado padre del psicoanalisis, Sigmund Freud, ha sacado a la luz un detalle que podria cambiar para siempre no solo la vision que se tenia de su trabajo, sino del futuro de esta disciplina. ', 'De acuerdo a lo que el mismo sabio especifico en sus escritos, el no creia en el psicoanalisis, sino que solo lo usaba como estrategia para ligar.', 'El profesor Solsticio Schoppenhaggen, reconocido historiador y biografo de Freud, fue quien comunico al mundo sus descubrimientos: \"De acuerdo a la correspondencia que encontramos, Sigmund se carteaba con uno de sus amigos, diciendole lo terriblemente dificil que era para el conseguir sexo, pues aseguraba que todas las mujeres que conocia eran muy mojigatas y reprimidas”.', 'Tras de unos dos meses de quejarse continuamente en cada epistola, su animo cambio notablemente. En su correspondencia, citaba que convenciendo\\a las damas que todo lo que pensaban y hacian en realidad estaba motivado por el sexo, era para el mucho mas facil llevarselas a la cama.', 'El mismo Freud acepta en sus escritos que ni el mismo se lo creia, pero que se vio obligado a escribir algunos libros para que no comenzaran a rumorar que todo era un truco.', '“En muchas de las cartas, dirigidas a su amigo, que solo conocemos como Erich F., le aconsejaba que comenzara a usar la tecnica tambien, que le seria muy util. En ese sentido, su amigo no parecia muy de acuerdo, pues el sostenia que el amar deberia ser un arte, y su aspiracion, mas que el ligue, era dominar el arte de amar\".', 'El historiador nos prometio que en cuanto hubiera nuevos descubrimientos, nos lo haria saber de inmediato.', ' \\n                    MÉXICO, 1810 — La madrugada de hoy, un grupo de ciudadanos de la mas baja ralea,                ', ' \\n                    CIUDAD DE MÉXICO, 1847 — Desde el dia de ayer, el ejercito norteamericano ha atacado esta                ', ' \\n                    JERUSALÉN, AÑO 33 — Gran despliegue policiaco se llevo a cabo la tarde de este jueves                ', '', '<p id=\"subscribe-email\">\\n<label class=\"screen-reader-text\" for=\"subscribe-field-blog_subscription-3\" id=\"jetpack-subscribe-label\">\\n\\t\\t\\t\\t\\t\\t\\tAnota tu email                        \\n<input class=\"required\" id=\"subscribe-field-blog_subscription-3\" name=\"email\" placeholder=\"Anota tu email\" required=\"required\" type=\"email\" value=\"\"/>\\n', '<p id=\"subscribe-submit\">\\n<input name=\"action\" type=\"hidden\" value=\"subscribe\"/>\\n<input name=\"source\" type=\"hidden\" value=\"https://www.eldizque.com/se-descubre-que-sigmund-freud-invento-el-psicoanalisis-como-un-metodo-para-ligar/\"/>\\n<input name=\"sub-type\" type=\"hidden\" value=\"widget\"/>\\n<input name=\"redirect_fragment\" type=\"hidden\" value=\"blog_subscription-3\"/>\\n<button name=\"jetpack_subscriptions_widget\" type=\"submit\">\\n\\t                        Enviar                        \\n', '© Copyright ElDizque 2016. All rights reserved - Revillagigedo 18, Mexico DF - contacto@eldizque.com - Una produccion de Kol.mx']\n"
     ]
    }
   ],
   "source": [
    "print(clean6)"
   ]
  },
  {
   "cell_type": "code",
   "execution_count": 26,
   "metadata": {},
   "outputs": [
    {
     "name": "stdout",
     "output_type": "stream",
     "text": [
      "['El hallazgo\\de una serie de cartas de llamado padre del psicoanalisis, Sigmund Freud, ha sacado a la luz un detalle que podria cambiar para siempre no solo la vision que se tenia de su trabajo, sino del futuro de esta disciplina. ', 'De acuerdo a lo que el mismo sabio especifico en sus escritos, el no creia en el psicoanalisis, sino que solo lo usaba como estrategia para ligar.', 'El profesor Solsticio Schoppenhaggen, reconocido historiador y biografo de Freud, fue quien comunico al mundo sus descubrimientos: \"De acuerdo a la correspondencia que encontramos, Sigmund se carteaba con uno de sus amigos, diciendole lo terriblemente dificil que era para el conseguir sexo, pues aseguraba que todas las mujeres que conocia eran muy mojigatas y reprimidas”.', 'Tras de unos dos meses de quejarse continuamente en cada epistola, su animo cambio notablemente. En su correspondencia, citaba que convenciendo\\a las damas que todo lo que pensaban y hacian en realidad estaba motivado por el sexo, era para el mucho mas facil llevarselas a la cama.', 'El mismo Freud acepta en sus escritos que ni el mismo se lo creia, pero que se vio obligado a escribir algunos libros para que no comenzaran a rumorar que todo era un truco.', '“En muchas de las cartas, dirigidas a su amigo, que solo conocemos como Erich F., le aconsejaba que comenzara a usar la tecnica tambien, que le seria muy util. En ese sentido, su amigo no parecia muy de acuerdo, pues el sostenia que el amar deberia ser un arte, y su aspiracion, mas que el ligue, era dominar el arte de amar\".', 'El historiador nos prometio que en cuanto hubiera nuevos descubrimientos, nos lo haria saber de inmediato.', ' \\n                    MÉXICO, 1810 — La madrugada de hoy, un grupo de ciudadanos de la mas baja ralea,                ', ' \\n                    CIUDAD DE MÉXICO, 1847 — Desde el dia de ayer, el ejercito norteamericano ha atacado esta                ', ' \\n                    JERUSALÉN, AÑO 33 — Gran despliegue policiaco se llevo a cabo la tarde de este jueves                ', '', '\\n\\n\\t\\t\\t\\t\\t\\t\\tAnota tu email                        \\n\\n', '\\n\\n<input name=\"source\" type=\"hidden\" value=\"https://www.eldizque.com/se-descubre-que-sigmund-freud-invento-el-psicoanalisis-como-un-metodo-para-ligar/\"/>\\n\\n\\n\\n\\t                        Enviar                        \\n', '© Copyright ElDizque 2016. All rights reserved - Revillagigedo 18, Mexico DF - contacto@eldizque.com - Una produccion de Kol.mx']\n"
     ]
    }
   ],
   "source": [
    "clean7=re.sub(r'[\\<]+[\\s\\w=/\"/-]+[/>]+','',clean6)\n",
    "print(clean7)"
   ]
  },
  {
   "cell_type": "code",
   "execution_count": 27,
   "metadata": {},
   "outputs": [
    {
     "name": "stdout",
     "output_type": "stream",
     "text": [
      "['El hallazgo\\de una serie de cartas de llamado padre del psicoanalisis, Sigmund Freud, ha sacado a la luz un detalle que podria cambiar para siempre no solo la vision que se tenia de su trabajo, sino del futuro de esta disciplina. ', 'De acuerdo a lo que el mismo sabio especifico en sus escritos, el no creia en el psicoanalisis, sino que solo lo usaba como estrategia para ligar.', 'El profesor Solsticio Schoppenhaggen, reconocido historiador y biografo de Freud, fue quien comunico al mundo sus descubrimientos: \"De acuerdo a la correspondencia que encontramos, Sigmund se carteaba con uno de sus amigos, diciendole lo terriblemente dificil que era para el conseguir sexo, pues aseguraba que todas las mujeres que conocia eran muy mojigatas y reprimidas”.', 'Tras de unos dos meses de quejarse continuamente en cada epistola, su animo cambio notablemente. En su correspondencia, citaba que convenciendo\\a las damas que todo lo que pensaban y hacian en realidad estaba motivado por el sexo, era para el mucho mas facil llevarselas a la cama.', 'El mismo Freud acepta en sus escritos que ni el mismo se lo creia, pero que se vio obligado a escribir algunos libros para que no comenzaran a rumorar que todo era un truco.', '“En muchas de las cartas, dirigidas a su amigo, que solo conocemos como Erich F., le aconsejaba que comenzara a usar la tecnica tambien, que le seria muy util. En ese sentido, su amigo no parecia muy de acuerdo, pues el sostenia que el amar deberia ser un arte, y su aspiracion, mas que el ligue, era dominar el arte de amar\".', 'El historiador nos prometio que en cuanto hubiera nuevos descubrimientos, nos lo haria saber de inmediato.', ' \\n                    MÉXICO, 1810 — La madrugada de hoy, un grupo de ciudadanos de la mas baja ralea,                ', ' \\n                    CIUDAD DE MÉXICO, 1847 — Desde el dia de ayer, el ejercito norteamericano ha atacado esta                ', ' \\n                    JERUSALÉN, AÑO 33 — Gran despliegue policiaco se llevo a cabo la tarde de este jueves                ', '', '\\n\\n\\t\\t\\t\\t\\t\\t\\tAnota tu email                        \\n\\n', '\\n\\n<input name=\"source\" type=\"hidden\" value=\"https://www.eldizque.com/se-descubre-que-sigmund-freud-invento-el-psicoanalisis-como-un-metodo-para-ligar/\"/>\\n\\n\\n\\n\\t                        Enviar                        \\n', '© Copyright ElDizque 2016. All rights reserved - Revillagigedo 18, Mexico DF - contacto@eldizque.com - Una produccion de Kol.mx']\n"
     ]
    }
   ],
   "source": [
    "clean8=re.sub(r'[\\<]+[a]+[\\s]+[h][r][e]+[f]+','\\n',clean7)\n",
    "print(clean8)"
   ]
  },
  {
   "cell_type": "code",
   "execution_count": 28,
   "metadata": {},
   "outputs": [
    {
     "ename": "SyntaxError",
     "evalue": "invalid syntax (<ipython-input-28-92cf9490f4e6>, line 1)",
     "output_type": "error",
     "traceback": [
      "\u001b[1;36m  File \u001b[1;32m\"<ipython-input-28-92cf9490f4e6>\"\u001b[1;36m, line \u001b[1;32m1\u001b[0m\n\u001b[1;33m    clean9=re.sub(r'[=]+[h]+[t]+[\\w\\d/://.[']]+','',clean8)\u001b[0m\n\u001b[1;37m                                            ^\u001b[0m\n\u001b[1;31mSyntaxError\u001b[0m\u001b[1;31m:\u001b[0m invalid syntax\n"
     ]
    }
   ],
   "source": [
    "clean9=re.sub(r'[=]+[h]+[t]+[\\w\\d/://.[']]+','',clean8)\n",
    "print(clean9)"
   ]
  },
  {
   "cell_type": "code",
   "execution_count": null,
   "metadata": {},
   "outputs": [],
   "source": []
  }
 ],
 "metadata": {
  "kernelspec": {
   "display_name": "Python 3",
   "language": "python",
   "name": "python3"
  },
  "language_info": {
   "codemirror_mode": {
    "name": "ipython",
    "version": 3
   },
   "file_extension": ".py",
   "mimetype": "text/x-python",
   "name": "python",
   "nbconvert_exporter": "python",
   "pygments_lexer": "ipython3",
   "version": "3.7.3"
  }
 },
 "nbformat": 4,
 "nbformat_minor": 2
}
