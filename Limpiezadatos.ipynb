{
 "cells": [
  {
   "cell_type": "code",
   "execution_count": 1,
   "metadata": {},
   "outputs": [
    {
     "name": "stdout",
     "output_type": "stream",
     "text": [
      "Requirement already satisfied: nltk in c:\\users\\ilet\\appdata\\local\\continuum\\anaconda3\\lib\\site-packages (3.4.4)\n",
      "Requirement already satisfied: six in c:\\users\\ilet\\appdata\\local\\continuum\\anaconda3\\lib\\site-packages (from nltk) (1.12.0)\n"
     ]
    }
   ],
   "source": [
    "!pip install nltk"
   ]
  },
  {
   "cell_type": "code",
   "execution_count": 5,
   "metadata": {},
   "outputs": [],
   "source": [
    "import os\n",
    "import re"
   ]
  },
  {
   "cell_type": "code",
   "execution_count": 6,
   "metadata": {},
   "outputs": [
    {
     "data": {
      "text/plain": [
       "['.anaconda',\n",
       " '.conda',\n",
       " '.condarc',\n",
       " '.ipynb_checkpoints',\n",
       " '.ipython',\n",
       " '.matplotlib',\n",
       " '.VirtualBox',\n",
       " '3D Objects',\n",
       " 'AppData',\n",
       " 'Application Data',\n",
       " 'Contacts',\n",
       " 'Cookies',\n",
       " 'Desktop',\n",
       " 'Documents',\n",
       " 'Downloads',\n",
       " 'Email101.txt',\n",
       " 'Favorites',\n",
       " 'Links',\n",
       " 'Local Settings',\n",
       " 'MicrosoftEdgeBackups',\n",
       " 'Music',\n",
       " 'My Documents',\n",
       " 'NetHood',\n",
       " 'NTUSER.DAT',\n",
       " 'ntuser.dat.LOG1',\n",
       " 'ntuser.dat.LOG2',\n",
       " 'NTUSER.DAT{fd9a35db-49fe-11e9-aa2c-248a07783950}.TM.blf',\n",
       " 'NTUSER.DAT{fd9a35db-49fe-11e9-aa2c-248a07783950}.TMContainer00000000000000000001.regtrans-ms',\n",
       " 'NTUSER.DAT{fd9a35db-49fe-11e9-aa2c-248a07783950}.TMContainer00000000000000000002.regtrans-ms',\n",
       " 'ntuser.ini',\n",
       " 'ntuser.pol',\n",
       " 'OneDrive',\n",
       " 'Pictures',\n",
       " 'PrintHood',\n",
       " 'pseint',\n",
       " 'Recent',\n",
       " 'Saved Games',\n",
       " 'Searches',\n",
       " 'SendTo',\n",
       " 'source',\n",
       " 'Start Menu',\n",
       " 'Templates',\n",
       " 'Text_mining.ipynb',\n",
       " 'Videos',\n",
       " 'Vizerra LLC']"
      ]
     },
     "execution_count": 6,
     "metadata": {},
     "output_type": "execute_result"
    }
   ],
   "source": [
    "os.listdir()"
   ]
  },
  {
   "cell_type": "code",
   "execution_count": 7,
   "metadata": {},
   "outputs": [
    {
     "data": {
      "text/plain": [
       "'C:\\\\Users\\\\ilet'"
      ]
     },
     "execution_count": 7,
     "metadata": {},
     "output_type": "execute_result"
    }
   ],
   "source": [
    "os.getcwd()"
   ]
  },
  {
   "cell_type": "code",
   "execution_count": 11,
   "metadata": {},
   "outputs": [],
   "source": [
    "f = open(\"test.txt\",'w',encoding='utf-8')"
   ]
  },
  {
   "cell_type": "code",
   "execution_count": 12,
   "metadata": {},
   "outputs": [],
   "source": [
    "for i in range(0,100):\n",
    "    f.write(\"Hola Mundo: \"+str(i)+\"\\n\")"
   ]
  },
  {
   "cell_type": "code",
   "execution_count": 13,
   "metadata": {},
   "outputs": [],
   "source": [
    "f.close()"
   ]
  },
  {
   "cell_type": "code",
   "execution_count": 14,
   "metadata": {},
   "outputs": [],
   "source": [
    "f2 = open(\"test.txt\",'r',encoding='utf-8')"
   ]
  },
  {
   "cell_type": "code",
   "execution_count": 15,
   "metadata": {},
   "outputs": [],
   "source": [
    "lineas = f2.readlines()"
   ]
  },
  {
   "cell_type": "code",
   "execution_count": 18,
   "metadata": {},
   "outputs": [],
   "source": [
    "f2.close()"
   ]
  },
  {
   "cell_type": "code",
   "execution_count": 19,
   "metadata": {},
   "outputs": [
    {
     "data": {
      "text/plain": [
       "100"
      ]
     },
     "execution_count": 19,
     "metadata": {},
     "output_type": "execute_result"
    }
   ],
   "source": [
    "len(lineas)"
   ]
  },
  {
   "cell_type": "code",
   "execution_count": 20,
   "metadata": {},
   "outputs": [
    {
     "data": {
      "text/plain": [
       "['Hola Mundo: 0\\n',\n",
       " 'Hola Mundo: 1\\n',\n",
       " 'Hola Mundo: 2\\n',\n",
       " 'Hola Mundo: 3\\n',\n",
       " 'Hola Mundo: 4\\n',\n",
       " 'Hola Mundo: 5\\n',\n",
       " 'Hola Mundo: 6\\n',\n",
       " 'Hola Mundo: 7\\n',\n",
       " 'Hola Mundo: 8\\n',\n",
       " 'Hola Mundo: 9\\n',\n",
       " 'Hola Mundo: 10\\n',\n",
       " 'Hola Mundo: 11\\n',\n",
       " 'Hola Mundo: 12\\n',\n",
       " 'Hola Mundo: 13\\n',\n",
       " 'Hola Mundo: 14\\n',\n",
       " 'Hola Mundo: 15\\n',\n",
       " 'Hola Mundo: 16\\n',\n",
       " 'Hola Mundo: 17\\n',\n",
       " 'Hola Mundo: 18\\n',\n",
       " 'Hola Mundo: 19\\n',\n",
       " 'Hola Mundo: 20\\n',\n",
       " 'Hola Mundo: 21\\n',\n",
       " 'Hola Mundo: 22\\n',\n",
       " 'Hola Mundo: 23\\n',\n",
       " 'Hola Mundo: 24\\n',\n",
       " 'Hola Mundo: 25\\n',\n",
       " 'Hola Mundo: 26\\n',\n",
       " 'Hola Mundo: 27\\n',\n",
       " 'Hola Mundo: 28\\n',\n",
       " 'Hola Mundo: 29\\n',\n",
       " 'Hola Mundo: 30\\n',\n",
       " 'Hola Mundo: 31\\n',\n",
       " 'Hola Mundo: 32\\n',\n",
       " 'Hola Mundo: 33\\n',\n",
       " 'Hola Mundo: 34\\n',\n",
       " 'Hola Mundo: 35\\n',\n",
       " 'Hola Mundo: 36\\n',\n",
       " 'Hola Mundo: 37\\n',\n",
       " 'Hola Mundo: 38\\n',\n",
       " 'Hola Mundo: 39\\n',\n",
       " 'Hola Mundo: 40\\n',\n",
       " 'Hola Mundo: 41\\n',\n",
       " 'Hola Mundo: 42\\n',\n",
       " 'Hola Mundo: 43\\n',\n",
       " 'Hola Mundo: 44\\n',\n",
       " 'Hola Mundo: 45\\n',\n",
       " 'Hola Mundo: 46\\n',\n",
       " 'Hola Mundo: 47\\n',\n",
       " 'Hola Mundo: 48\\n',\n",
       " 'Hola Mundo: 49\\n',\n",
       " 'Hola Mundo: 50\\n',\n",
       " 'Hola Mundo: 51\\n',\n",
       " 'Hola Mundo: 52\\n',\n",
       " 'Hola Mundo: 53\\n',\n",
       " 'Hola Mundo: 54\\n',\n",
       " 'Hola Mundo: 55\\n',\n",
       " 'Hola Mundo: 56\\n',\n",
       " 'Hola Mundo: 57\\n',\n",
       " 'Hola Mundo: 58\\n',\n",
       " 'Hola Mundo: 59\\n',\n",
       " 'Hola Mundo: 60\\n',\n",
       " 'Hola Mundo: 61\\n',\n",
       " 'Hola Mundo: 62\\n',\n",
       " 'Hola Mundo: 63\\n',\n",
       " 'Hola Mundo: 64\\n',\n",
       " 'Hola Mundo: 65\\n',\n",
       " 'Hola Mundo: 66\\n',\n",
       " 'Hola Mundo: 67\\n',\n",
       " 'Hola Mundo: 68\\n',\n",
       " 'Hola Mundo: 69\\n',\n",
       " 'Hola Mundo: 70\\n',\n",
       " 'Hola Mundo: 71\\n',\n",
       " 'Hola Mundo: 72\\n',\n",
       " 'Hola Mundo: 73\\n',\n",
       " 'Hola Mundo: 74\\n',\n",
       " 'Hola Mundo: 75\\n',\n",
       " 'Hola Mundo: 76\\n',\n",
       " 'Hola Mundo: 77\\n',\n",
       " 'Hola Mundo: 78\\n',\n",
       " 'Hola Mundo: 79\\n',\n",
       " 'Hola Mundo: 80\\n',\n",
       " 'Hola Mundo: 81\\n',\n",
       " 'Hola Mundo: 82\\n',\n",
       " 'Hola Mundo: 83\\n',\n",
       " 'Hola Mundo: 84\\n',\n",
       " 'Hola Mundo: 85\\n',\n",
       " 'Hola Mundo: 86\\n',\n",
       " 'Hola Mundo: 87\\n',\n",
       " 'Hola Mundo: 88\\n',\n",
       " 'Hola Mundo: 89\\n',\n",
       " 'Hola Mundo: 90\\n',\n",
       " 'Hola Mundo: 91\\n',\n",
       " 'Hola Mundo: 92\\n',\n",
       " 'Hola Mundo: 93\\n',\n",
       " 'Hola Mundo: 94\\n',\n",
       " 'Hola Mundo: 95\\n',\n",
       " 'Hola Mundo: 96\\n',\n",
       " 'Hola Mundo: 97\\n',\n",
       " 'Hola Mundo: 98\\n',\n",
       " 'Hola Mundo: 99\\n']"
      ]
     },
     "execution_count": 20,
     "metadata": {},
     "output_type": "execute_result"
    }
   ],
   "source": [
    "lineas"
   ]
  },
  {
   "cell_type": "code",
   "execution_count": 21,
   "metadata": {},
   "outputs": [],
   "source": [
    "archivo = open(\"Email101.txt\",'r',encoding='utf-8')\n",
    "contenido = archivo.readlines()\n",
    "archivo.close()"
   ]
  },
  {
   "cell_type": "code",
   "execution_count": 23,
   "metadata": {},
   "outputs": [
    {
     "data": {
      "text/plain": [
       "1569"
      ]
     },
     "execution_count": 23,
     "metadata": {},
     "output_type": "execute_result"
    }
   ],
   "source": [
    "len(contenido)"
   ]
  },
  {
   "cell_type": "code",
   "execution_count": 27,
   "metadata": {},
   "outputs": [],
   "source": [
    "strg = contenido[1000]"
   ]
  },
  {
   "cell_type": "code",
   "execution_count": 30,
   "metadata": {},
   "outputs": [
    {
     "name": "stdout",
     "output_type": "stream",
     "text": [
      "M\n",
      "a\n",
      "n\n",
      "y\n",
      " \n",
      "m\n",
      "a\n",
      "c\n",
      "h\n",
      "i\n",
      "n\n",
      "e\n",
      "s\n",
      " \n",
      "s\n",
      "u\n",
      "p\n",
      "p\n",
      "o\n",
      "r\n",
      "t\n",
      " \n",
      "a\n",
      " \n",
      "c\n",
      "o\n",
      "m\n",
      "m\n",
      "a\n",
      "n\n",
      "d\n",
      " \n",
      "c\n",
      "a\n",
      "l\n",
      "l\n",
      "e\n",
      "d\n",
      " \n",
      "\"\n",
      "n\n",
      "s\n",
      "l\n",
      "o\n",
      "o\n",
      "k\n",
      "u\n",
      "p\n",
      "\"\n",
      " \n",
      "t\n",
      "h\n",
      "a\n",
      "t\n",
      " \n",
      "w\n",
      "i\n",
      "l\n",
      "l\n",
      " \n",
      "r\n",
      "e\n",
      "t\n",
      "u\n",
      "r\n",
      "n\n",
      " \n",
      "t\n",
      "h\n",
      "e\n",
      " \n",
      "d\n",
      "o\n",
      "t\n",
      "t\n",
      "e\n",
      "d\n",
      " \n",
      "d\n",
      "e\n",
      "c\n",
      "i\n",
      "m\n",
      "a\n",
      "l\n",
      " \n",
      "a\n",
      "d\n",
      "d\n",
      "r\n",
      "e\n",
      "s\n",
      "s\n",
      " \n",
      "g\n",
      "i\n",
      "v\n",
      "e\n",
      "n\n",
      " \n",
      "t\n",
      "h\n",
      "e\n",
      " \n",
      "n\n",
      "a\n",
      "m\n",
      "e\n",
      " \n",
      "o\n",
      "f\n",
      " \n",
      "t\n",
      "h\n",
      "e\n",
      " \n",
      "m\n",
      "a\n",
      "c\n",
      "h\n",
      "i\n",
      "n\n",
      "e\n",
      "\n",
      "\n"
     ]
    }
   ],
   "source": [
    "for i in strg:\n",
    "    print(i)"
   ]
  },
  {
   "cell_type": "code",
   "execution_count": 32,
   "metadata": {},
   "outputs": [
    {
     "data": {
      "text/plain": [
       "'Many machines support a command called \"nslookup\" that will return the dotted decimal address given the name of the machine\\n'"
      ]
     },
     "execution_count": 32,
     "metadata": {},
     "output_type": "execute_result"
    }
   ],
   "source": [
    "strg.capitalize()"
   ]
  },
  {
   "cell_type": "code",
   "execution_count": 33,
   "metadata": {},
   "outputs": [
    {
     "data": {
      "text/plain": [
       "'Hola mundo'"
      ]
     },
     "execution_count": 33,
     "metadata": {},
     "output_type": "execute_result"
    }
   ],
   "source": [
    "\"hola mundo\".capitalize()"
   ]
  },
  {
   "cell_type": "code",
   "execution_count": 34,
   "metadata": {},
   "outputs": [
    {
     "data": {
      "text/plain": [
       "109"
      ]
     },
     "execution_count": 34,
     "metadata": {},
     "output_type": "execute_result"
    }
   ],
   "source": [
    "strg.find('of')"
   ]
  },
  {
   "cell_type": "code",
   "execution_count": 39,
   "metadata": {},
   "outputs": [
    {
     "data": {
      "text/plain": [
       "False"
      ]
     },
     "execution_count": 39,
     "metadata": {},
     "output_type": "execute_result"
    }
   ],
   "source": [
    "\"32asdasd asdf as\".isalnum()"
   ]
  },
  {
   "cell_type": "code",
   "execution_count": 41,
   "metadata": {},
   "outputs": [
    {
     "data": {
      "text/plain": [
       "'many machines support a command called \"nslookup\" that will return the dotted decimal address given the name of the machine\\n'"
      ]
     },
     "execution_count": 41,
     "metadata": {},
     "output_type": "execute_result"
    }
   ],
   "source": [
    "strg.lower()"
   ]
  },
  {
   "cell_type": "code",
   "execution_count": 42,
   "metadata": {},
   "outputs": [
    {
     "data": {
      "text/plain": [
       "'Many machines support a command called \"nslookup\" that will return the dotted decimal address given the name de the machine\\n'"
      ]
     },
     "execution_count": 42,
     "metadata": {},
     "output_type": "execute_result"
    }
   ],
   "source": [
    "strg.replace('of','de')"
   ]
  },
  {
   "cell_type": "code",
   "execution_count": 43,
   "metadata": {},
   "outputs": [
    {
     "data": {
      "text/plain": [
       "'Many machines support a command called \"nslookup\" that will return the dotted decimal address given the name of the machine\\n'"
      ]
     },
     "execution_count": 43,
     "metadata": {},
     "output_type": "execute_result"
    }
   ],
   "source": [
    "strg"
   ]
  },
  {
   "cell_type": "code",
   "execution_count": 46,
   "metadata": {},
   "outputs": [
    {
     "data": {
      "text/plain": [
       "['Many machines support a command called \"nslookup\" that will return ',\n",
       " ' dotted decimal address given ',\n",
       " ' name of ',\n",
       " ' machine\\n']"
      ]
     },
     "execution_count": 46,
     "metadata": {},
     "output_type": "execute_result"
    }
   ],
   "source": [
    "strg.split(\"the\")"
   ]
  },
  {
   "cell_type": "code",
   "execution_count": 47,
   "metadata": {},
   "outputs": [],
   "source": [
    "L = [1,2,3,4,1]"
   ]
  },
  {
   "cell_type": "code",
   "execution_count": 50,
   "metadata": {},
   "outputs": [],
   "source": [
    "L = list(set(L))"
   ]
  },
  {
   "cell_type": "code",
   "execution_count": 51,
   "metadata": {},
   "outputs": [
    {
     "data": {
      "text/plain": [
       "[1, 2, 3, 4]"
      ]
     },
     "execution_count": 51,
     "metadata": {},
     "output_type": "execute_result"
    }
   ],
   "source": [
    "L"
   ]
  },
  {
   "cell_type": "code",
   "execution_count": 54,
   "metadata": {},
   "outputs": [],
   "source": [
    "lista_unica = list(set(strg.split()))"
   ]
  },
  {
   "cell_type": "code",
   "execution_count": 55,
   "metadata": {},
   "outputs": [
    {
     "data": {
      "text/plain": [
       "['machine',\n",
       " 'a',\n",
       " 'will',\n",
       " '\"nslookup\"',\n",
       " 'address',\n",
       " 'that',\n",
       " 'decimal',\n",
       " 'dotted',\n",
       " 'support',\n",
       " 'Many',\n",
       " 'command',\n",
       " 'the',\n",
       " 'given',\n",
       " 'of',\n",
       " 'return',\n",
       " 'machines',\n",
       " 'name',\n",
       " 'called']"
      ]
     },
     "execution_count": 55,
     "metadata": {},
     "output_type": "execute_result"
    }
   ],
   "source": [
    "lista_unica"
   ]
  },
  {
   "cell_type": "code",
   "execution_count": 56,
   "metadata": {},
   "outputs": [
    {
     "data": {
      "text/plain": [
       "1569"
      ]
     },
     "execution_count": 56,
     "metadata": {},
     "output_type": "execute_result"
    }
   ],
   "source": [
    "len(contenido)"
   ]
  },
  {
   "cell_type": "code",
   "execution_count": 59,
   "metadata": {},
   "outputs": [],
   "source": [
    "texto_full = \" \".join(contenido)"
   ]
  },
  {
   "cell_type": "code",
   "execution_count": 60,
   "metadata": {},
   "outputs": [],
   "source": [
    "texto_min = texto_full.lower()"
   ]
  },
  {
   "cell_type": "code",
   "execution_count": 62,
   "metadata": {},
   "outputs": [],
   "source": [
    "pal_unicas = list(set(texto_min.split()))"
   ]
  },
  {
   "cell_type": "code",
   "execution_count": 68,
   "metadata": {},
   "outputs": [
    {
     "data": {
      "text/plain": [
       "['marks',\n",
       " 'carries',\n",
       " 'parents',\n",
       " 'areas',\n",
       " '(v.32bis',\n",
       " 'requires',\n",
       " 'workarounds',\n",
       " 'is',\n",
       " 'diversions',\n",
       " 'rates',\n",
       " 'extensions',\n",
       " 'segments',\n",
       " 'bbs',\n",
       " 'humanities',\n",
       " '70s',\n",
       " \"here's\",\n",
       " 'instructions',\n",
       " 'decompress',\n",
       " 'donors',\n",
       " 'damages',\n",
       " 'across',\n",
       " 'manuals',\n",
       " 'channels',\n",
       " \"user's\",\n",
       " 'rtfm.mit.edu:/pub/usenet-by-group/news.anwsers/internet-services',\n",
       " 'specializes',\n",
       " 'ms-dos',\n",
       " 'archives',\n",
       " 'translators',\n",
       " 'reads',\n",
       " 'initials',\n",
       " 'listings',\n",
       " 'overlooks',\n",
       " 'bits',\n",
       " 'wants',\n",
       " 'titles',\n",
       " 'inquiries',\n",
       " 'beliefs',\n",
       " 'tells',\n",
       " 'protocols',\n",
       " 'comings',\n",
       " 'directories',\n",
       " 'approaches',\n",
       " 'discards',\n",
       " 'minorities',\n",
       " 'forcasters',\n",
       " 'consists',\n",
       " 'clients',\n",
       " '(pictures',\n",
       " 'was',\n",
       " 'releases',\n",
       " '(does',\n",
       " 'ads',\n",
       " 'times',\n",
       " 'offers',\n",
       " 'less',\n",
       " 'macos',\n",
       " 'favourite—means',\n",
       " 'lets',\n",
       " 'ftp.sura.net:/pub/nic/zen-1.0.ps',\n",
       " \"list's\",\n",
       " 'carriers',\n",
       " 'preprints',\n",
       " 'rules',\n",
       " 'days',\n",
       " \"computer's\",\n",
       " 'brings',\n",
       " 'companies',\n",
       " 'vaxes',\n",
       " 'separations',\n",
       " 'sets',\n",
       " '\"lists',\n",
       " 'universities',\n",
       " 'equivalents',\n",
       " 'allows',\n",
       " 'linefeeds',\n",
       " 'procedures',\n",
       " 'advantages',\n",
       " 'notices',\n",
       " \"psi's\",\n",
       " 'purposes',\n",
       " 'lans',\n",
       " 'publishers—writers',\n",
       " 'discuss',\n",
       " 'minors',\n",
       " 'others',\n",
       " 'expects',\n",
       " 'cases',\n",
       " 'newsgroups',\n",
       " \"school's\",\n",
       " 'prints',\n",
       " 'needs',\n",
       " 'ls',\n",
       " 'religious',\n",
       " 'goes',\n",
       " 'compress',\n",
       " 'jacks',\n",
       " 'tutors',\n",
       " 'infamous',\n",
       " 'represents',\n",
       " 'changes',\n",
       " 'copies',\n",
       " 'remedies',\n",
       " 'provides',\n",
       " 'plugs',\n",
       " 'hides',\n",
       " 'notifies',\n",
       " 'predictions',\n",
       " '\"emulates',\n",
       " 'success',\n",
       " 'guidelines',\n",
       " 'class',\n",
       " 'mistakes',\n",
       " 'options',\n",
       " 'converts',\n",
       " 'individuals',\n",
       " 'boards',\n",
       " 'jones',\n",
       " 'types',\n",
       " 'users',\n",
       " 'harmless',\n",
       " 'varies',\n",
       " 'publications',\n",
       " 'quotes',\n",
       " 'owns',\n",
       " \"gutenberg-tm's\",\n",
       " 'violates',\n",
       " 'quirks',\n",
       " 'goals',\n",
       " 'has',\n",
       " '\"what\\'s',\n",
       " 'occurs',\n",
       " 'activities',\n",
       " 'skills',\n",
       " 'obvious',\n",
       " 'assumes',\n",
       " 'monitors',\n",
       " 'unconscious',\n",
       " 'profits',\n",
       " 'resources',\n",
       " \"it's\",\n",
       " 'uses',\n",
       " \"state's\",\n",
       " 'workstations',\n",
       " 'bibliographies',\n",
       " 'performances',\n",
       " 'communications',\n",
       " 'virus',\n",
       " 'after-hours',\n",
       " 'letters',\n",
       " 'nevertheless',\n",
       " 'salespersons',\n",
       " 'series',\n",
       " 'editions',\n",
       " 'customs',\n",
       " 'levels',\n",
       " 'publishers',\n",
       " 'basics',\n",
       " 'amounts',\n",
       " 'readers',\n",
       " 'nysernet.org:/pub/resources/guides',\n",
       " 'prospects',\n",
       " 'employees',\n",
       " 'references',\n",
       " 'guesses',\n",
       " 'numerous',\n",
       " 'bundles',\n",
       " 'aliases',\n",
       " 'turns',\n",
       " 'projects',\n",
       " 'listservers',\n",
       " 'comes',\n",
       " 'besides',\n",
       " 'seems',\n",
       " 'vendors',\n",
       " 'covers',\n",
       " 'tips',\n",
       " 'passwords',\n",
       " 'scholars',\n",
       " 'previous',\n",
       " '(v.42bis',\n",
       " 'sometimes',\n",
       " 'librarians',\n",
       " 'things',\n",
       " 'firms',\n",
       " 'thousands',\n",
       " '.us',\n",
       " 'images',\n",
       " 'ways',\n",
       " 'seconds',\n",
       " 'institution—this',\n",
       " 'towards',\n",
       " 'compatibles',\n",
       " 'trailers',\n",
       " 'services',\n",
       " 'articles',\n",
       " 'us',\n",
       " 'responses',\n",
       " \"<that's\",\n",
       " 'contains',\n",
       " 'mrcnext.cso.uiuc.edu:/etext/articles',\n",
       " 'messages',\n",
       " 'catalogues',\n",
       " '(\"hayes',\n",
       " 'graphics',\n",
       " 'teachers',\n",
       " 'fits',\n",
       " 'organizations',\n",
       " 'prompts',\n",
       " 'keywords',\n",
       " 'goodies',\n",
       " 'pays',\n",
       " \"joe's\",\n",
       " 'tv!—as',\n",
       " 'sources',\n",
       " 'features',\n",
       " 'suggestions',\n",
       " '(means',\n",
       " 'dangers',\n",
       " 'reaches',\n",
       " 'synonymous',\n",
       " 'as',\n",
       " 'lots',\n",
       " 'unless',\n",
       " 'questions',\n",
       " 'disadvantages',\n",
       " 'process',\n",
       " 'decisions',\n",
       " 'mechanics',\n",
       " 'sends',\n",
       " 'wais',\n",
       " 'fees',\n",
       " 'denominations',\n",
       " 'networks',\n",
       " \"let's\",\n",
       " 'representations',\n",
       " 'dollars',\n",
       " 'wans',\n",
       " 'tools',\n",
       " 'newspapers',\n",
       " 'students',\n",
       " 'dialects',\n",
       " \"program's\",\n",
       " 'settings',\n",
       " 'hundreds',\n",
       " 'takes',\n",
       " '[this',\n",
       " 'printers',\n",
       " 'names',\n",
       " 'anonymous',\n",
       " 'usernames',\n",
       " 'implies',\n",
       " 'efforts',\n",
       " 'steps',\n",
       " 'tends',\n",
       " 'understands',\n",
       " 'royalties',\n",
       " 'e-texts',\n",
       " 'talks',\n",
       " 'paths',\n",
       " 'solutions',\n",
       " 'donotes',\n",
       " 'calls',\n",
       " 'sits',\n",
       " 'codes',\n",
       " 'kinds',\n",
       " 'does',\n",
       " 'parts',\n",
       " 'providers',\n",
       " 'hours',\n",
       " 'laws',\n",
       " 'connects',\n",
       " 'peculiarities',\n",
       " '(oops',\n",
       " 'characters',\n",
       " 'charities',\n",
       " 'books',\n",
       " 'this',\n",
       " 'thinks',\n",
       " 'gets',\n",
       " 'various',\n",
       " 'points',\n",
       " 'anonyomous',\n",
       " 'charges',\n",
       " 'systems',\n",
       " 'trees',\n",
       " 'machines',\n",
       " 'access',\n",
       " 'telecommunications',\n",
       " 'businesses',\n",
       " 'encounters',\n",
       " 'generations',\n",
       " '(ms',\n",
       " 'macintoshes',\n",
       " 'holds',\n",
       " 'pictures',\n",
       " 'groups',\n",
       " 'friends',\n",
       " 'chapters',\n",
       " 'directory-of-directories',\n",
       " 'keys',\n",
       " 'squeals',\n",
       " 'clones',\n",
       " 'states',\n",
       " 'incompatibilities',\n",
       " 'structures',\n",
       " 'returns',\n",
       " 'involves',\n",
       " '(besides',\n",
       " 'minutes',\n",
       " 'libraries',\n",
       " 'newsletters',\n",
       " 'discusses',\n",
       " 'details',\n",
       " 'manuscripts',\n",
       " 'filenames',\n",
       " 'volunteers',\n",
       " 'business',\n",
       " 'collections',\n",
       " '(towards',\n",
       " 'disclaimers',\n",
       " 'submissions',\n",
       " 'zen-1.0.ps',\n",
       " 'sections',\n",
       " 'alternatives',\n",
       " 'additions',\n",
       " 'scanners',\n",
       " 'writers',\n",
       " 'supports',\n",
       " 'commands',\n",
       " 'journalists',\n",
       " 'technologists',\n",
       " 'perhaps',\n",
       " 'campus',\n",
       " 'eps',\n",
       " 'countries',\n",
       " 'caps',\n",
       " 'mosques',\n",
       " 'complaints',\n",
       " 'installations',\n",
       " 'gross',\n",
       " 'menus',\n",
       " 'focus',\n",
       " 'express',\n",
       " 'etiquette—as',\n",
       " 'words',\n",
       " 'depends',\n",
       " 'windows',\n",
       " 'mailservers',\n",
       " 'formats',\n",
       " 'interfaces',\n",
       " 'responds',\n",
       " 'donations',\n",
       " 'transfers',\n",
       " 'translates',\n",
       " 'years',\n",
       " 'ends',\n",
       " 'fileservers',\n",
       " 'statements',\n",
       " 'restrictions',\n",
       " 'criticisms',\n",
       " 'reports',\n",
       " 'brochures',\n",
       " 'fitness',\n",
       " 'afterhours',\n",
       " 'exists',\n",
       " 'whereas',\n",
       " 'makes',\n",
       " 'marvelous',\n",
       " 'pcs',\n",
       " 'its',\n",
       " 'versions',\n",
       " 'subjects',\n",
       " 'profess',\n",
       " '(looks',\n",
       " 'gives',\n",
       " \"foundation's\",\n",
       " 'opportunities',\n",
       " 'techniques',\n",
       " 'religions',\n",
       " 'press',\n",
       " 'standards',\n",
       " 'thus',\n",
       " 'contents',\n",
       " 'linguistics',\n",
       " 'servers',\n",
       " 'issues',\n",
       " 'deletions',\n",
       " \"someone's\",\n",
       " 'columns',\n",
       " 'weekend—unless',\n",
       " 'weakness',\n",
       " 'industries',\n",
       " 'paints',\n",
       " 'processor—unless',\n",
       " 'saves',\n",
       " 'address',\n",
       " 'participants',\n",
       " 'addresses',\n",
       " 'terms',\n",
       " 'links',\n",
       " \"faq's\",\n",
       " 'costs',\n",
       " 'funds',\n",
       " 'expenses',\n",
       " 'doubtless',\n",
       " 'physics',\n",
       " 'problems',\n",
       " 'concerns',\n",
       " 'nowadays',\n",
       " 'pass',\n",
       " 'restricts',\n",
       " 'computers',\n",
       " 'errors',\n",
       " 'sites',\n",
       " \"modem's\",\n",
       " 'schemes',\n",
       " 'stress',\n",
       " 'circuitous',\n",
       " 'hands',\n",
       " 'lists',\n",
       " 'places',\n",
       " 'minicomputers',\n",
       " 'looks',\n",
       " 'los',\n",
       " 'examples',\n",
       " 'fails',\n",
       " 'means',\n",
       " 'works',\n",
       " 'information—as',\n",
       " 'modems',\n",
       " 'scientists',\n",
       " '(requires',\n",
       " \"beginner's\",\n",
       " \"ebook's\",\n",
       " 'thickets',\n",
       " 'always',\n",
       " 'sorts',\n",
       " 'reasons',\n",
       " 'warranties',\n",
       " 'texts',\n",
       " 'savings',\n",
       " 'pages',\n",
       " 'that—as',\n",
       " 'vms',\n",
       " 'opus',\n",
       " 'documents',\n",
       " 'requirements',\n",
       " 'tags',\n",
       " 'uncompress',\n",
       " 'newgroups',\n",
       " \"project's\",\n",
       " 'ones',\n",
       " 'lines',\n",
       " 'requests',\n",
       " 'notes',\n",
       " 'faxes',\n",
       " 'digits',\n",
       " 'pub/resources/guides',\n",
       " 'numbers',\n",
       " 'contributions',\n",
       " 'payments',\n",
       " 'happens',\n",
       " 'status',\n",
       " 'boxes',\n",
       " 'lights',\n",
       " 'symbols',\n",
       " 'news',\n",
       " 'locations',\n",
       " 'postings',\n",
       " '(graphics',\n",
       " 'supplies',\n",
       " 'belongs',\n",
       " 'pitfalls',\n",
       " 'starts',\n",
       " 'bytes',\n",
       " 'tasks',\n",
       " 'says',\n",
       " \"everyone's\",\n",
       " 'includes',\n",
       " 'sounds',\n",
       " 'begins',\n",
       " '(unless',\n",
       " 'backwards',\n",
       " 'mainframes',\n",
       " 'exits',\n",
       " 'territories',\n",
       " 'laboratories',\n",
       " 'avoids',\n",
       " 'stares',\n",
       " 'backups',\n",
       " 'gateways',\n",
       " 'guess',\n",
       " 'humanists',\n",
       " 'members',\n",
       " 'offices',\n",
       " 'events',\n",
       " 'hints',\n",
       " 'materials',\n",
       " 'persons',\n",
       " \"bbs's\",\n",
       " 'worlds',\n",
       " 'ebooks',\n",
       " 'results',\n",
       " 'searches',\n",
       " 'methods',\n",
       " 'guides',\n",
       " '<this',\n",
       " 'politics',\n",
       " 'halftones',\n",
       " 'situations',\n",
       " 'customers',\n",
       " 'etext/articles',\n",
       " 'programs',\n",
       " 'connections',\n",
       " 'files',\n",
       " 'james',\n",
       " 'paragraphs',\n",
       " '\"anonymous',\n",
       " \"that's\",\n",
       " 'walks',\n",
       " 'faqs',\n",
       " 'headers',\n",
       " 'nets',\n",
       " 'puts',\n",
       " 'rights',\n",
       " 'analogous',\n",
       " 'institutions',\n",
       " 'banks',\n",
       " \"yanoff's\",\n",
       " 'joe@locoweed.chi.il.us',\n",
       " 'views']"
      ]
     },
     "execution_count": 68,
     "metadata": {},
     "output_type": "execute_result"
    }
   ],
   "source": [
    "[w for w in pal_unicas if w.endswith('s')]"
   ]
  },
  {
   "cell_type": "code",
   "execution_count": 70,
   "metadata": {},
   "outputs": [],
   "source": [
    "cadena = \" \".join(contenido)"
   ]
  },
  {
   "cell_type": "code",
   "execution_count": 75,
   "metadata": {},
   "outputs": [],
   "source": [
    "lista_email = re.findall(r'[\\w\\.-]+@[\\w\\.-]+',cadena)"
   ]
  },
  {
   "cell_type": "code",
   "execution_count": 78,
   "metadata": {},
   "outputs": [],
   "source": [
    "lista_montos = re.findall(r'\\$[\\d]+[.,]*[\\d]*',cadena)"
   ]
  },
  {
   "cell_type": "code",
   "execution_count": 79,
   "metadata": {},
   "outputs": [
    {
     "data": {
      "text/plain": [
       "['$10',\n",
       " '$50',\n",
       " '$100',\n",
       " '$10',\n",
       " '$40',\n",
       " '$1',\n",
       " '$5',\n",
       " '$100',\n",
       " '$5',\n",
       " '$10',\n",
       " '$350',\n",
       " '$20',\n",
       " '$2000',\n",
       " '$10',\n",
       " '$2',\n",
       " '$2',\n",
       " '$13',\n",
       " '$4',\n",
       " '$20',\n",
       " '$2',\n",
       " '$2',\n",
       " '$9',\n",
       " '$1000',\n",
       " '$10',\n",
       " '$22.00',\n",
       " '$50',\n",
       " '$350',\n",
       " '$1',\n",
       " '$5,000']"
      ]
     },
     "execution_count": 79,
     "metadata": {},
     "output_type": "execute_result"
    }
   ],
   "source": [
    "lista_montos"
   ]
  },
  {
   "cell_type": "code",
   "execution_count": 77,
   "metadata": {},
   "outputs": [
    {
     "data": {
      "text/plain": [
       "['jgoodwin@adcalc.fnal.gov',\n",
       " 'joe@locoweed.chi.il.us',\n",
       " 'president@whitehouse.gov',\n",
       " 'president@whitehouse.gov',\n",
       " 'vice.president@whitehouse.gov',\n",
       " 'pdq@hoople.usnd.edu.',\n",
       " 'listserv@hoople.usnd.edu',\n",
       " 'pdqfan@hoople.usnd.edu',\n",
       " 'request@hoople.usnd.edu',\n",
       " 'listserv@whereever.edu',\n",
       " 'pdq@hoople.usnd.edu',\n",
       " 'bach2378@bigblue.com',\n",
       " 'pdq@hoople.usnd.edu.',\n",
       " 'president@whitehouse.gov',\n",
       " 'vice.president@whitehouse.gov',\n",
       " 'ftpmail@decwrl.dec.com',\n",
       " 'archie@archie.rutgers.edu',\n",
       " 'ftpmail@decwrl.dec.com',\n",
       " 'almanac@oes.orst.edu',\n",
       " 'ftpmail@decwrl.dec.com',\n",
       " 'request@whitehouse.gov',\n",
       " 'politics@whitehouse.gov',\n",
       " 'mail-server@rtfm.mit.edu',\n",
       " 'mail-server@rtfm.mit.edu',\n",
       " 'listserv@brownvm.brown.edu',\n",
       " 'listserv@auvm.american.edu',\n",
       " 'all-info@psi.com',\n",
       " 'info@psi.com',\n",
       " 'info@psi.com',\n",
       " 'mail-server@rtfm.mit.edu',\n",
       " 'ftpmail@decwrl.dec.com',\n",
       " 'ftpmail@decwrl.dec.com',\n",
       " 'ftpmail@decwrl.dec.com',\n",
       " 'info-deli-server@netcom.com',\n",
       " 'mail-server@rtfm.mit.edu',\n",
       " 'business@pglaf.org.',\n",
       " 'gbnewby@pglaf.org']"
      ]
     },
     "execution_count": 77,
     "metadata": {},
     "output_type": "execute_result"
    }
   ],
   "source": [
    "lista_email"
   ]
  },
  {
   "cell_type": "code",
   "execution_count": 76,
   "metadata": {},
   "outputs": [
    {
     "data": {
      "text/plain": [
       "37"
      ]
     },
     "execution_count": 76,
     "metadata": {},
     "output_type": "execute_result"
    }
   ],
   "source": [
    "len(lista_email)"
   ]
  },
  {
   "cell_type": "code",
   "execution_count": 80,
   "metadata": {},
   "outputs": [],
   "source": [
    "from nltk.stem import PorterStemmer"
   ]
  },
  {
   "cell_type": "code",
   "execution_count": 81,
   "metadata": {},
   "outputs": [],
   "source": [
    "stemmer = PorterStemmer()"
   ]
  },
  {
   "cell_type": "code",
   "execution_count": 82,
   "metadata": {},
   "outputs": [
    {
     "data": {
      "text/plain": [
       "'work'"
      ]
     },
     "execution_count": 82,
     "metadata": {},
     "output_type": "execute_result"
    }
   ],
   "source": [
    "stemmer.stem('working')"
   ]
  },
  {
   "cell_type": "code",
   "execution_count": 86,
   "metadata": {},
   "outputs": [
    {
     "data": {
      "text/plain": [
       "'play'"
      ]
     },
     "execution_count": 86,
     "metadata": {},
     "output_type": "execute_result"
    }
   ],
   "source": [
    "stemmer.stem('playing')"
   ]
  },
  {
   "cell_type": "code",
   "execution_count": 88,
   "metadata": {},
   "outputs": [],
   "source": [
    "from nltk.stem.snowball import SnowballStemmer"
   ]
  },
  {
   "cell_type": "code",
   "execution_count": 90,
   "metadata": {},
   "outputs": [],
   "source": [
    "stemmer_Spanish = SnowballStemmer('spanish')"
   ]
  },
  {
   "cell_type": "code",
   "execution_count": 92,
   "metadata": {},
   "outputs": [
    {
     "data": {
      "text/plain": [
       "'jug'"
      ]
     },
     "execution_count": 92,
     "metadata": {},
     "output_type": "execute_result"
    }
   ],
   "source": [
    "stemmer_Spanish.stem('jugando')"
   ]
  }
 ],
 "metadata": {
  "kernelspec": {
   "display_name": "Python 3",
   "language": "python",
   "name": "python3"
  },
  "language_info": {
   "codemirror_mode": {
    "name": "ipython",
    "version": 3
   },
   "file_extension": ".py",
   "mimetype": "text/x-python",
   "name": "python",
   "nbconvert_exporter": "python",
   "pygments_lexer": "ipython3",
   "version": "3.7.3"
  }
 },
 "nbformat": 4,
 "nbformat_minor": 2
}
